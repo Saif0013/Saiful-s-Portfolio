{
 "cells": [
  {
   "cell_type": "markdown",
   "id": "069fee4d",
   "metadata": {},
   "source": [
    "## Build a neural network based on Tensorflow for a real world task"
   ]
  },
  {
   "cell_type": "markdown",
   "id": "a2a04642",
   "metadata": {},
   "source": [
    "This dataset is originally from the National Institute of Diabetes and Digestive and Kidney Diseases. The objective of the dataset is to diagnostically predict whether or not a patient has diabetes, based on certain diagnostic measurements included in the dataset. Detailed description of the dataset can be found here: https://www.kaggle.com/uciml/pima-indians-diabetes-database"
   ]
  },
  {
   "cell_type": "markdown",
   "id": "a43691a7",
   "metadata": {},
   "source": [
    "Question: What type of model should you build? A regression model or classification model?"
   ]
  },
  {
   "cell_type": "markdown",
   "id": "014e6e86",
   "metadata": {},
   "source": [
    "Answer: Classification model. Because the target variable is a binary variable."
   ]
  },
  {
   "cell_type": "markdown",
   "id": "bc996024",
   "metadata": {},
   "source": [
    "### load the dataset"
   ]
  },
  {
   "cell_type": "code",
   "execution_count": 1,
   "id": "b7b8d505",
   "metadata": {},
   "outputs": [],
   "source": [
    "import pandas as pd\n",
    "\n",
    "filename = 'diabetes.csv'\n",
    "dataframe = pd.read_csv(filename, header=0) # first row is set as the column name of the dataframe\n",
    "array = dataframe.values\n",
    "X = array[:,0:8]\n",
    "y = array[:,8]"
   ]
  },
  {
   "cell_type": "markdown",
   "id": "ea964d02",
   "metadata": {},
   "source": [
    "### Create input x and y with placeholder"
   ]
  },
  {
   "cell_type": "code",
   "execution_count": null,
   "id": "c9e22279",
   "metadata": {},
   "outputs": [],
   "source": []
  },
  {
   "cell_type": "markdown",
   "id": "95ee40d5",
   "metadata": {},
   "source": [
    "### Build a neural network with 2 hidden layers\n",
    "First hidden layer with 15 neurons and second hidden layer with 10 neurons. Remember that the output of first layer should be the input of the second layer\n",
    "\n",
    "Think: The network structure need to be completed with an output layer, how many neurons should we have for the output layer in this task?"
   ]
  },
  {
   "cell_type": "code",
   "execution_count": null,
   "id": "c844f884",
   "metadata": {},
   "outputs": [],
   "source": []
  },
  {
   "cell_type": "markdown",
   "id": "33e378cb",
   "metadata": {},
   "source": [
    "### Define the loss function with softmax activation"
   ]
  },
  {
   "cell_type": "code",
   "execution_count": null,
   "id": "e136240e",
   "metadata": {},
   "outputs": [],
   "source": []
  },
  {
   "cell_type": "markdown",
   "id": "78128b41",
   "metadata": {},
   "source": [
    "### Calculate Accuracy"
   ]
  },
  {
   "cell_type": "code",
   "execution_count": null,
   "id": "c59e02e8",
   "metadata": {},
   "outputs": [],
   "source": []
  },
  {
   "cell_type": "markdown",
   "id": "cfbb15ad",
   "metadata": {},
   "source": [
    "### Define optimizer with gradient descent"
   ]
  },
  {
   "cell_type": "code",
   "execution_count": null,
   "id": "21e746af",
   "metadata": {},
   "outputs": [],
   "source": []
  },
  {
   "cell_type": "markdown",
   "id": "b12b0490",
   "metadata": {},
   "source": [
    "### Train the neural network model\n",
    "Remember always initialze before training the model"
   ]
  },
  {
   "cell_type": "code",
   "execution_count": null,
   "id": "1496255f",
   "metadata": {},
   "outputs": [],
   "source": []
  }
 ],
 "metadata": {
  "kernelspec": {
   "display_name": "Python 3 (ipykernel)",
   "language": "python",
   "name": "python3"
  },
  "language_info": {
   "codemirror_mode": {
    "name": "ipython",
    "version": 3
   },
   "file_extension": ".py",
   "mimetype": "text/x-python",
   "name": "python",
   "nbconvert_exporter": "python",
   "pygments_lexer": "ipython3",
   "version": "3.7.16"
  }
 },
 "nbformat": 4,
 "nbformat_minor": 5
}
