{
 "cells": [
  {
   "cell_type": "markdown",
   "metadata": {},
   "source": [
    "## CSE5ML Lab 5: Clustering\n",
    "In this lab we will show you, how you can use the kmean clustering algorithm which is an unsupervised method.\n",
    "\n",
    "## Clustering\n",
    "* Unlike classification, the model is not provided with the correct labeling of data during training\n",
    "* Can be used to divide data into number of groups solely based on their statistical characteristics\n",
    "* Clustering can be performed even if we only have labels available for very small number of data in the dataset (i.e. very limited sample of each class)\n",
    "\n",
    "## Kmeans Algorithm\n",
    "k-means clustering algorithm is an unsupervised clustering method that aims to partition n observations into k clusters. Then, each observation belongs to the cluster with the nearest mean, serving as a prototype of the cluster."
   ]
  },
  {
   "cell_type": "markdown",
   "metadata": {},
   "source": [
    "#### Define a fake dataset"
   ]
  },
  {
   "cell_type": "code",
   "execution_count": 1,
   "metadata": {},
   "outputs": [],
   "source": [
    "import numpy as np\n",
    "X = np.array([[1, 2], [1, 4], [1, 0],\n",
    "    [10, 2], [10, 4], [10, 0]])"
   ]
  },
  {
   "cell_type": "markdown",
   "metadata": {},
   "source": [
    "#### Build a Kmeans model with 2 clusters"
   ]
  },
  {
   "cell_type": "code",
   "execution_count": 2,
   "metadata": {},
   "outputs": [],
   "source": [
    "from sklearn.cluster import KMeans\n",
    "\n",
    "kmeans = KMeans(n_clusters=2, random_state=0).fit(X)"
   ]
  },
  {
   "cell_type": "markdown",
   "metadata": {},
   "source": [
    "#### Get predicted cluster labels for each data sample"
   ]
  },
  {
   "cell_type": "code",
   "execution_count": 3,
   "metadata": {},
   "outputs": [
    {
     "name": "stdout",
     "output_type": "stream",
     "text": [
      "labels: [1 1 1 0 0 0]\n"
     ]
    }
   ],
   "source": [
    "print('labels:',kmeans.labels_)"
   ]
  },
  {
   "cell_type": "markdown",
   "metadata": {},
   "source": [
    "#### Make cluster prediction for given data"
   ]
  },
  {
   "cell_type": "code",
   "execution_count": 4,
   "metadata": {},
   "outputs": [
    {
     "name": "stdout",
     "output_type": "stream",
     "text": [
      "prediction: [1 0]\n"
     ]
    }
   ],
   "source": [
    "print('prediction:',kmeans.predict([[0, 0], [12, 3]]))"
   ]
  },
  {
   "cell_type": "markdown",
   "metadata": {},
   "source": [
    "#### Get cluster center for each cluster"
   ]
  },
  {
   "cell_type": "code",
   "execution_count": 5,
   "metadata": {},
   "outputs": [
    {
     "name": "stdout",
     "output_type": "stream",
     "text": [
      "kmeans.cluster_centers_: [[10.  2.]\n",
      " [ 1.  2.]]\n"
     ]
    }
   ],
   "source": [
    "print('kmeans.cluster_centers_:',kmeans.cluster_centers_)"
   ]
  },
  {
   "cell_type": "markdown",
   "metadata": {},
   "source": [
    "### Another example on a larger generated dataset"
   ]
  },
  {
   "cell_type": "code",
   "execution_count": 6,
   "metadata": {},
   "outputs": [
    {
     "name": "stdout",
     "output_type": "stream",
     "text": [
      "[[ 1.07621886 -1.06625689]\n",
      " [-1.07094261 -1.00512907]\n",
      " [ 0.96903436  1.02005354]]\n"
     ]
    }
   ],
   "source": [
    "import numpy as np\n",
    "import matplotlib.pyplot as plt\n",
    "from sklearn.cluster import KMeans\n",
    "from sklearn.datasets import make_blobs\n",
    "\n",
    "# #############################################################################\n",
    "# Generate sample data\n",
    "np.random.seed(0)\n",
    "centers = [[1, 1], [-1, -1], [1, -1]]\n",
    "n_clusters = len(centers)\n",
    "X, labels_true = make_blobs(n_samples=3000, centers=centers, cluster_std=0.7) # make_blobs() function can be used to generate blobs of points with a Gaussian distribution. \n",
    "\n",
    "# #############################################################################\n",
    "# Compute clustering with Means\n",
    "\n",
    "kmeans = KMeans(n_clusters=3, n_init=15, random_state=0) # n_init: number of time the k-means algorithm will be run with different centroid seeds. The final results will be the best output of n_init consecutive runs in terms of inertia.\n",
    "\n",
    "kmeans.fit(X)\n",
    "kmeans_cluster_centers = kmeans.cluster_centers_\n",
    "kmeans_labels = kmeans.labels_\n",
    "print(kmeans_cluster_centers)"
   ]
  },
  {
   "cell_type": "markdown",
   "metadata": {},
   "source": [
    "we can find that the cluster centres found by KMeans are very close to our original generated data samples [[1, 1], [-1, -1], [1, -1]]"
   ]
  },
  {
   "cell_type": "code",
   "execution_count": 7,
   "metadata": {},
   "outputs": [
    {
     "data": {
      "text/plain": [
       "Text(0.5, 1.0, 'KMeans')"
      ]
     },
     "execution_count": 7,
     "metadata": {},
     "output_type": "execute_result"
    },
    {
     "data": {
      "image/png": "[encoded data removed]",
      "text/plain": [
       "<Figure size 576x216 with 1 Axes>"
      ]
     },
     "metadata": {
      "needs_background": "light"
     },
     "output_type": "display_data"
    }
   ],
   "source": [
    "# Plotting\n",
    "fig = plt.figure(figsize=(8, 3))\n",
    "fig.subplots_adjust(left=0.02, right=0.98, bottom=0.05, top=0.9)\n",
    "colors = ['#4EACC5', '#FF9C34', '#4E9A06']\n",
    "ax = fig.add_subplot(1, 3, 1)\n",
    "for k, col in zip(range(n_clusters), colors):\n",
    "    my_members = kmeans_labels == k\n",
    "    cluster_center = kmeans_cluster_centers[k]\n",
    "    ax.plot(X[my_members, 0], X[my_members, 1], 'w',\n",
    "            markerfacecolor=col, marker='.')\n",
    "    ax.plot(cluster_center[0], cluster_center[1], 'o', markerfacecolor=col,\n",
    "            markeredgecolor='k', markersize=6)\n",
    "ax.set_title('KMeans')"
   ]
  },
  {
   "cell_type": "code",
   "execution_count": 8,
   "metadata": {},
   "outputs": [
    {
     "data": {
      "text/plain": [
       "{0: 960, 1: 1016, 2: 1024}"
      ]
     },
     "execution_count": 8,
     "metadata": {},
     "output_type": "execute_result"
    }
   ],
   "source": [
    "# check how many data samples in each cluster\n",
    "unique_labels, unique_counts = np.unique(kmeans_labels, return_counts=True)\n",
    "dict(zip(unique_labels, unique_counts))"
   ]
  },
  {
   "cell_type": "markdown",
   "metadata": {},
   "source": [
    "### Let's try apply kmeans on the vehicle dataset we used in Lab 3"
   ]
  },
  {
   "cell_type": "markdown",
   "metadata": {},
   "source": [
    "Try to implement the data preprocessing yourself. The entire process should include: loading the data, drop the column that we do not need, handingling missing values, handling duplicates, dealing with text in the data (removing the units from the values, dealing with categorical variables), transforming the variable year to age,  extracting values from input variables (define inputs variables and the target variable), and scaling the variables with min-max normalization"
   ]
  },
  {
   "cell_type": "markdown",
   "metadata": {},
   "source": [
    "Note: since k means method prefers standardized (scaled) data, it is better to apply min-max normalizatin before building the clustering model"
   ]
  },
  {
   "cell_type": "code",
   "execution_count": null,
   "metadata": {},
   "outputs": [],
   "source": []
  },
  {
   "cell_type": "markdown",
   "metadata": {},
   "source": [
    "### Now try build a kmeans model with 3 clusters with our vehicle data X"
   ]
  },
  {
   "cell_type": "code",
   "execution_count": 10,
   "metadata": {},
   "outputs": [],
   "source": [
    "from sklearn.cluster import KMeans\n",
    "\n",
    "kmeans = KMeans(n_clusters=3, random_state=0).fit(X)"
   ]
  },
  {
   "cell_type": "markdown",
   "metadata": {},
   "source": [
    "#### check how many data samples in each cluster"
   ]
  },
  {
   "cell_type": "code",
   "execution_count": 11,
   "metadata": {},
   "outputs": [
    {
     "data": {
      "text/plain": [
       "{0: 662, 1: 2703, 2: 3174}"
      ]
     },
     "execution_count": 11,
     "metadata": {},
     "output_type": "execute_result"
    }
   ],
   "source": [
    "kmeans_labels = kmeans.labels_\n",
    "unique_labels, unique_counts = np.unique(kmeans_labels, return_counts=True)\n",
    "dict(zip(unique_labels, unique_counts))"
   ]
  },
  {
   "cell_type": "markdown",
   "metadata": {},
   "source": [
    "####  Finding the optimum number of clusters for k-means clustering\n",
    "One easy but popular method is using Elbow Curve.\n",
    "Explanation of Score in the code below: The objective in the K-means is to reduce the sum of squares of the distances of points from their respective cluster centroids (the opposite of score). This value tells how internally coherent the clusters are (The less the better)."
   ]
  },
  {
   "cell_type": "code",
   "execution_count": 12,
   "metadata": {},
   "outputs": [
    {
     "name": "stderr",
     "output_type": "stream",
     "text": [
      "C:\\Users\\melody\\Documents\\anaconda3\\lib\\site-packages\\sklearn\\cluster\\_kmeans.py:881: UserWarning: KMeans is known to have a memory leak on Windows with MKL, when there are less chunks than available threads. You can avoid it by setting the environment variable OMP_NUM_THREADS=26.\n",
      "  warnings.warn(\n"
     ]
    },
    {
     "data": {
      "image/png": "[encoded data removed]",
      "text/plain": [
       "<Figure size 432x288 with 1 Axes>"
      ]
     },
     "metadata": {
      "needs_background": "light"
     },
     "output_type": "display_data"
    }
   ],
   "source": [
    "import matplotlib.pyplot as plt\n",
    "\n",
    "num_cluster = range(1, 10)\n",
    "kmeans_list = [KMeans(n_clusters=i) for i in num_cluster]\n",
    "kmeans_list\n",
    "scores = [kmeans_list[i].fit(X).score(X) for i in range(len(kmeans_list))]\n",
    "scores\n",
    "plt.plot(num_cluster, scores)\n",
    "plt.xlabel('Number of Clusters')\n",
    "plt.ylabel('Score')\n",
    "plt.title('Elbow Curve')\n",
    "plt.show()"
   ]
  },
  {
   "cell_type": "markdown",
   "metadata": {},
   "source": [
    "You can clearly see why it is called 'The elbow method' from the above graph, the optimum clusters is where the elbow occurs. Now that we have the optimum amount of clusters (k=3)."
   ]
  },
  {
   "cell_type": "markdown",
   "metadata": {},
   "source": [
    "#### Extract prototype for each cluster\n",
    "We can find the indexes of the data samples that are closest to the k means cluster centre, then we can indentify the difference and similarity between the clusters by using the prototypes"
   ]
  },
  {
   "cell_type": "code",
   "execution_count": 13,
   "metadata": {},
   "outputs": [
    {
     "data": {
      "text/html": [
       "<div>\n",
       "<style scoped>\n",
       "    .dataframe tbody tr th:only-of-type {\n",
       "        vertical-align: middle;\n",
       "    }\n",
       "\n",
       "    .dataframe tbody tr th {\n",
       "        vertical-align: top;\n",
       "    }\n",
       "\n",
       "    .dataframe thead th {\n",
       "        text-align: right;\n",
       "    }\n",
       "</style>\n",
       "<table border=\"1\" class=\"dataframe\">\n",
       "  <thead>\n",
       "    <tr style=\"text-align: right;\">\n",
       "      <th></th>\n",
       "      <th>selling_price</th>\n",
       "      <th>km_driven</th>\n",
       "      <th>owner</th>\n",
       "      <th>mileage</th>\n",
       "      <th>engine</th>\n",
       "      <th>max_power</th>\n",
       "      <th>seats</th>\n",
       "      <th>age</th>\n",
       "      <th>fuel_CNG</th>\n",
       "      <th>fuel_Diesel</th>\n",
       "      <th>fuel_LPG</th>\n",
       "      <th>fuel_Petrol</th>\n",
       "      <th>seller_type_Dealer</th>\n",
       "      <th>seller_type_Individual</th>\n",
       "      <th>seller_type_Trustmark Dealer</th>\n",
       "      <th>transmission_Automatic</th>\n",
       "      <th>transmission_Manual</th>\n",
       "    </tr>\n",
       "  </thead>\n",
       "  <tbody>\n",
       "    <tr>\n",
       "      <th>6951</th>\n",
       "      <td>591000</td>\n",
       "      <td>60000</td>\n",
       "      <td>1</td>\n",
       "      <td>21.49</td>\n",
       "      <td>1498</td>\n",
       "      <td>108.50</td>\n",
       "      <td>5.0</td>\n",
       "      <td>5</td>\n",
       "      <td>0</td>\n",
       "      <td>1</td>\n",
       "      <td>0</td>\n",
       "      <td>0</td>\n",
       "      <td>1</td>\n",
       "      <td>0</td>\n",
       "      <td>0</td>\n",
       "      <td>0</td>\n",
       "      <td>1</td>\n",
       "    </tr>\n",
       "    <tr>\n",
       "      <th>982</th>\n",
       "      <td>310000</td>\n",
       "      <td>70000</td>\n",
       "      <td>1</td>\n",
       "      <td>19.81</td>\n",
       "      <td>1086</td>\n",
       "      <td>68.05</td>\n",
       "      <td>5.0</td>\n",
       "      <td>8</td>\n",
       "      <td>0</td>\n",
       "      <td>0</td>\n",
       "      <td>0</td>\n",
       "      <td>1</td>\n",
       "      <td>0</td>\n",
       "      <td>1</td>\n",
       "      <td>0</td>\n",
       "      <td>0</td>\n",
       "      <td>1</td>\n",
       "    </tr>\n",
       "    <tr>\n",
       "      <th>5214</th>\n",
       "      <td>575000</td>\n",
       "      <td>90000</td>\n",
       "      <td>1</td>\n",
       "      <td>20.54</td>\n",
       "      <td>1598</td>\n",
       "      <td>103.60</td>\n",
       "      <td>5.0</td>\n",
       "      <td>7</td>\n",
       "      <td>0</td>\n",
       "      <td>1</td>\n",
       "      <td>0</td>\n",
       "      <td>0</td>\n",
       "      <td>0</td>\n",
       "      <td>1</td>\n",
       "      <td>0</td>\n",
       "      <td>0</td>\n",
       "      <td>1</td>\n",
       "    </tr>\n",
       "  </tbody>\n",
       "</table>\n",
       "</div>"
      ],
      "text/plain": [
       "      selling_price  km_driven  owner  mileage  engine  max_power  seats  age  \\\n",
       "6951         591000      60000      1    21.49    1498     108.50    5.0    5   \n",
       "982          310000      70000      1    19.81    1086      68.05    5.0    8   \n",
       "5214         575000      90000      1    20.54    1598     103.60    5.0    7   \n",
       "\n",
       "      fuel_CNG  fuel_Diesel  fuel_LPG  fuel_Petrol  seller_type_Dealer  \\\n",
       "6951         0            1         0            0                   1   \n",
       "982          0            0         0            1                   0   \n",
       "5214         0            1         0            0                   0   \n",
       "\n",
       "      seller_type_Individual  seller_type_Trustmark Dealer  \\\n",
       "6951                       0                             0   \n",
       "982                        1                             0   \n",
       "5214                       1                             0   \n",
       "\n",
       "      transmission_Automatic  transmission_Manual  \n",
       "6951                       0                    1  \n",
       "982                        0                    1  \n",
       "5214                       0                    1  "
      ]
     },
     "execution_count": 13,
     "metadata": {},
     "output_type": "execute_result"
    }
   ],
   "source": [
    "from sklearn.metrics.pairwise import pairwise_distances_argmin\n",
    "\n",
    "kmeans_cluster_centers = kmeans.cluster_centers_\n",
    "closest = pairwise_distances_argmin(kmeans.cluster_centers_, X)\n",
    "\n",
    "# show the three data samples that can represent the three clusters\n",
    "dataset.iloc[closest, :]"
   ]
  },
  {
   "cell_type": "markdown",
   "metadata": {},
   "source": [
    "Some other clustering methods that are available in scikit learn packages can be found here: https://scikit-learn.org/stable/modules/clustering.html#:~:text=2.3.1.%20Overview%20of%20clustering%20methods%20%C2%B6%20%20,nearest-neighbor%20gr%20...%20%206%20more%20rows%20"
   ]
  },
  {
   "cell_type": "markdown",
   "metadata": {},
   "source": [
    "### Answer to the above questions"
   ]
  },
  {
   "cell_type": "code",
   "execution_count": null,
   "metadata": {},
   "outputs": [],
   "source": [
    "import pandas as pd\n",
    "from sklearn.preprocessing import MinMaxScaler\n",
    "\n",
    "def remove_unit(df,colum_name) :\n",
    "    t = []\n",
    "    for i in df[colum_name]:\n",
    "        number = str(i).split(' ')[0]\n",
    "        t.append(number)\n",
    "    return t\n",
    "\n",
    "# load dataset\n",
    "dataset = pd.read_csv(\"Car details.csv\")\n",
    "\n",
    "# drop the columns that we are not going to use, here, we are droping the car name\n",
    "dataset.drop(['name'], axis=1, inplace=True)\n",
    "dataset = dataset.dropna()\n",
    "dataset = dataset.drop_duplicates()\n",
    "\n",
    "# remove units from values\n",
    "dataset['mileage'] = remove_unit(dataset,'mileage')\n",
    "dataset['engine'] = remove_unit(dataset,'engine')\n",
    "dataset['max_power'] = remove_unit(dataset,'max_power')\n",
    "\n",
    "# transform the column type to float\n",
    "dataset['mileage'] = pd.to_numeric(dataset['mileage'])\n",
    "dataset['engine'] = pd.to_numeric(dataset['engine'])\n",
    "dataset['max_power'] = pd.to_numeric(dataset['max_power'])\n",
    "\n",
    "#transform year to age\n",
    "dataset['age'] = 2021 - dataset['year']\n",
    "dataset.drop(['year'], axis = 1, inplace = True)\n",
    "\n",
    "#deal with categorical(nominal) variables\n",
    "dataset['owner'] = dataset['owner'].replace({'First Owner': 1, 'Second Owner': 2, 'Third Owner': 3})\n",
    "dataset = pd.get_dummies(dataset, columns=['fuel', 'seller_type', 'transmission'])\n",
    "\n",
    "# get input data\n",
    "array = dataset.values\n",
    "X = array[:,1:17]\n",
    "\n",
    "# the processes later to build kmean model, prefers normalized data\n",
    "# fit scaler on training data\n",
    "norm = MinMaxScaler().fit(X)\n",
    "X = norm.transform(X)"
   ]
  }
 ],
 "metadata": {
  "kernelspec": {
   "display_name": "Python 3 (ipykernel)",
   "language": "python",
   "name": "python3"
  },
  "language_info": {
   "codemirror_mode": {
    "name": "ipython",
    "version": 3
   },
   "file_extension": ".py",
   "mimetype": "text/x-python",
   "name": "python",
   "nbconvert_exporter": "python",
   "pygments_lexer": "ipython3",
   "version": "3.7.16"
  }
 },
 "nbformat": 4,
 "nbformat_minor": 4
}
