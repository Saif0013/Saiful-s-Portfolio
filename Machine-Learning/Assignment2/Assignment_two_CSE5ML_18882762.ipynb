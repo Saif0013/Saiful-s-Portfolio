{
 "cells": [
  {
   "cell_type": "code",
   "execution_count": 19,
   "id": "4e1e204e",
   "metadata": {},
   "outputs": [
    {
     "data": {
      "text/plain": [
       "'\\nName: MD SAIFUL ISLAM\\nSTUDENT ID: 18882762\\n\\n'"
      ]
     },
     "execution_count": 19,
     "metadata": {},
     "output_type": "execute_result"
    }
   ],
   "source": [
    "\"\"\"\n",
    "Name: MD SAIFUL ISLAM\n",
    "STUDENT ID: 18882762\n",
    "\n",
    "\"\"\""
   ]
  },
  {
   "cell_type": "code",
   "execution_count": 20,
   "id": "7e25bb64",
   "metadata": {},
   "outputs": [
    {
     "data": {
      "text/plain": [
       "'      Task 1          '"
      ]
     },
     "execution_count": 20,
     "metadata": {},
     "output_type": "execute_result"
    }
   ],
   "source": [
    "\"\"\"      Task 1          \"\"\""
   ]
  },
  {
   "cell_type": "code",
   "execution_count": 28,
   "id": "12d99e32",
   "metadata": {},
   "outputs": [],
   "source": [
    "# Load the libraries\n",
    "import tensorflow as tf\n",
    "from keras.models import Sequential\n",
    "from keras.layers import Dense\n",
    "from keras.layers import Flatten\n",
    "from keras.utils import np_utils"
   ]
  },
  {
   "cell_type": "code",
   "execution_count": 29,
   "id": "98a5fc52",
   "metadata": {},
   "outputs": [],
   "source": [
    "from keras.datasets import fashion_mnist \n",
    "\n",
    "(x_train, y_train), (x_test, y_test) = fashion_mnist.load_data() \n",
    "\n",
    "# reshape dataset to have a single channel \n",
    "x_train = x_train.reshape((x_train.shape[0], 28, 28, 1)) \n",
    "x_test = x_test.reshape((x_test.shape[0], 28, 28, 1)) "
   ]
  },
  {
   "cell_type": "code",
   "execution_count": 30,
   "id": "decffa6d",
   "metadata": {},
   "outputs": [],
   "source": [
    "# convert the labels to one-hot-vectors\n",
    "y_train = np_utils.to_categorical(y_train, 10)\n",
    "y_test = np_utils.to_categorical(y_test, 10)"
   ]
  },
  {
   "cell_type": "code",
   "execution_count": 31,
   "id": "72b720f0",
   "metadata": {},
   "outputs": [],
   "source": [
    "model = Sequential()\n",
    "\n",
    "# input layer\n",
    "model.add(Flatten(input_shape=(28, 28, 1)))\n",
    "\n",
    "# hidden layers\n",
    "model.add(Dense(128, activation='sigmoid'))\n",
    "model.add(Dense(64, activation='sigmoid'))\n",
    "\n",
    "# output layer\n",
    "model.add(Dense(10, activation='softmax'))\n"
   ]
  },
  {
   "cell_type": "code",
   "execution_count": 32,
   "id": "13c6ef7d",
   "metadata": {},
   "outputs": [],
   "source": [
    "# compile model\n",
    "model.compile(optimizer='adam', loss='categorical_crossentropy', metrics=['accuracy'])"
   ]
  },
  {
   "cell_type": "code",
   "execution_count": 35,
   "id": "943b47b9",
   "metadata": {},
   "outputs": [
    {
     "name": "stdout",
     "output_type": "stream",
     "text": [
      "Model: \"sequential_4\"\n",
      "_________________________________________________________________\n",
      " Layer (type)                Output Shape              Param #   \n",
      "=================================================================\n",
      " flatten_4 (Flatten)         (None, 784)               0         \n",
      "                                                                 \n",
      " dense_8 (Dense)             (None, 128)               100480    \n",
      "                                                                 \n",
      " dense_9 (Dense)             (None, 64)                8256      \n",
      "                                                                 \n",
      " dense_10 (Dense)            (None, 10)                650       \n",
      "                                                                 \n",
      "=================================================================\n",
      "Total params: 109,386\n",
      "Trainable params: 109,386\n",
      "Non-trainable params: 0\n",
      "_________________________________________________________________\n"
     ]
    }
   ],
   "source": [
    "model.summary()"
   ]
  },
  {
   "cell_type": "code",
   "execution_count": 33,
   "id": "cf6363ee",
   "metadata": {},
   "outputs": [
    {
     "name": "stdout",
     "output_type": "stream",
     "text": [
      "Epoch 1/10\n",
      "938/938 [==============================] - 4s 4ms/step - loss: 0.9211 - accuracy: 0.6930 - val_loss: 0.7581 - val_accuracy: 0.7095\n",
      "Epoch 2/10\n",
      "938/938 [==============================] - 4s 4ms/step - loss: 0.7242 - accuracy: 0.7259 - val_loss: 0.6915 - val_accuracy: 0.7363\n",
      "Epoch 3/10\n",
      "938/938 [==============================] - 4s 4ms/step - loss: 0.6933 - accuracy: 0.7346 - val_loss: 0.6990 - val_accuracy: 0.7247\n",
      "Epoch 4/10\n",
      "938/938 [==============================] - 4s 4ms/step - loss: 0.6886 - accuracy: 0.7329 - val_loss: 0.7077 - val_accuracy: 0.7244\n",
      "Epoch 5/10\n",
      "938/938 [==============================] - 3s 4ms/step - loss: 0.6767 - accuracy: 0.7344 - val_loss: 0.6707 - val_accuracy: 0.7462\n",
      "Epoch 6/10\n",
      "938/938 [==============================] - 3s 4ms/step - loss: 0.6612 - accuracy: 0.7437 - val_loss: 0.6865 - val_accuracy: 0.7411\n",
      "Epoch 7/10\n",
      "938/938 [==============================] - 4s 4ms/step - loss: 0.6558 - accuracy: 0.7510 - val_loss: 0.6736 - val_accuracy: 0.7295\n",
      "Epoch 8/10\n",
      "938/938 [==============================] - 4s 5ms/step - loss: 0.6422 - accuracy: 0.7582 - val_loss: 0.6648 - val_accuracy: 0.7537\n",
      "Epoch 9/10\n",
      "938/938 [==============================] - 4s 4ms/step - loss: 0.6279 - accuracy: 0.7646 - val_loss: 0.6390 - val_accuracy: 0.7631\n",
      "Epoch 10/10\n",
      "938/938 [==============================] - 4s 4ms/step - loss: 0.6108 - accuracy: 0.7727 - val_loss: 0.6488 - val_accuracy: 0.7695\n"
     ]
    },
    {
     "data": {
      "text/plain": [
       "<keras.callbacks.History at 0x198a1eee908>"
      ]
     },
     "execution_count": 33,
     "metadata": {},
     "output_type": "execute_result"
    }
   ],
   "source": [
    "tf.random.set_seed(1)\n",
    "\n",
    "# train model\n",
    "model.fit(x_train, y_train, epochs=10, batch_size=64, validation_data=(x_test, y_test))"
   ]
  },
  {
   "cell_type": "code",
   "execution_count": 34,
   "id": "be1c06fc",
   "metadata": {},
   "outputs": [
    {
     "name": "stdout",
     "output_type": "stream",
     "text": [
      "Accuracy: 76.95%\n"
     ]
    }
   ],
   "source": [
    "# Final evaluation of the model\n",
    "scores = model.evaluate(x_test, y_test, verbose=0)\n",
    "print(\"Accuracy: %.2f%%\" % (scores[1]*100))\n"
   ]
  },
  {
   "cell_type": "code",
   "execution_count": 21,
   "id": "4009df3a",
   "metadata": {},
   "outputs": [
    {
     "data": {
      "text/plain": [
       "'     Optimization of Task 1       '"
      ]
     },
     "execution_count": 21,
     "metadata": {},
     "output_type": "execute_result"
    }
   ],
   "source": [
    "\"\"\"     Optimization of Task 1       \"\"\""
   ]
  },
  {
   "cell_type": "code",
   "execution_count": 36,
   "id": "7eac4b15",
   "metadata": {},
   "outputs": [],
   "source": [
    "# Load the libraries\n",
    "import tensorflow as tf\n",
    "from keras.models import Sequential\n",
    "from keras.layers import Dense\n",
    "from keras.layers import Flatten\n",
    "from keras.utils import np_utils"
   ]
  },
  {
   "cell_type": "code",
   "execution_count": 37,
   "id": "62cc157f",
   "metadata": {},
   "outputs": [],
   "source": [
    "from keras.datasets import fashion_mnist \n",
    "\n",
    "(x_train, y_train), (x_test, y_test) = fashion_mnist.load_data() \n",
    "\n",
    "# reshape dataset to have a single channel \n",
    "x_train = x_train.reshape((x_train.shape[0], 28, 28, 1)) \n",
    "x_test = x_test.reshape((x_test.shape[0], 28, 28, 1)) "
   ]
  },
  {
   "cell_type": "code",
   "execution_count": 38,
   "id": "837e452d",
   "metadata": {},
   "outputs": [],
   "source": [
    "# convert the labels to one-hot-vectors\n",
    "y_train = np_utils.to_categorical(y_train, 10)\n",
    "y_test = np_utils.to_categorical(y_test, 10)"
   ]
  },
  {
   "cell_type": "code",
   "execution_count": 39,
   "id": "c22d5931",
   "metadata": {},
   "outputs": [],
   "source": [
    "model = Sequential()\n",
    "\n",
    "# input layer\n",
    "model.add(Flatten(input_shape=(28, 28, 1)))\n",
    "\n",
    "# hidden layers\n",
    "model.add(Dense(128, activation='relu'))\n",
    "model.add(Dense(64, activation='relu'))\n",
    "\n",
    "# output layer\n",
    "model.add(Dense(10, activation='softmax'))\n"
   ]
  },
  {
   "cell_type": "code",
   "execution_count": 40,
   "id": "8d782fe3",
   "metadata": {},
   "outputs": [],
   "source": [
    "# compile model\n",
    "model.compile(optimizer='adam', loss='categorical_crossentropy', metrics=['accuracy'])"
   ]
  },
  {
   "cell_type": "code",
   "execution_count": 41,
   "id": "240d717d",
   "metadata": {},
   "outputs": [
    {
     "name": "stdout",
     "output_type": "stream",
     "text": [
      "Model: \"sequential_5\"\n",
      "_________________________________________________________________\n",
      " Layer (type)                Output Shape              Param #   \n",
      "=================================================================\n",
      " flatten_5 (Flatten)         (None, 784)               0         \n",
      "                                                                 \n",
      " dense_11 (Dense)            (None, 128)               100480    \n",
      "                                                                 \n",
      " dense_12 (Dense)            (None, 64)                8256      \n",
      "                                                                 \n",
      " dense_13 (Dense)            (None, 10)                650       \n",
      "                                                                 \n",
      "=================================================================\n",
      "Total params: 109,386\n",
      "Trainable params: 109,386\n",
      "Non-trainable params: 0\n",
      "_________________________________________________________________\n"
     ]
    }
   ],
   "source": [
    "model.summary()"
   ]
  },
  {
   "cell_type": "code",
   "execution_count": 42,
   "id": "f91abf84",
   "metadata": {},
   "outputs": [
    {
     "name": "stdout",
     "output_type": "stream",
     "text": [
      "Epoch 1/10\n",
      "938/938 [==============================] - 4s 4ms/step - loss: 2.7581 - accuracy: 0.7460 - val_loss: 0.8484 - val_accuracy: 0.7677\n",
      "Epoch 2/10\n",
      "938/938 [==============================] - 4s 4ms/step - loss: 0.6363 - accuracy: 0.8068 - val_loss: 0.6542 - val_accuracy: 0.7958\n",
      "Epoch 3/10\n",
      "938/938 [==============================] - 4s 4ms/step - loss: 0.5141 - accuracy: 0.8293 - val_loss: 0.5450 - val_accuracy: 0.8143\n",
      "Epoch 4/10\n",
      "938/938 [==============================] - 4s 4ms/step - loss: 0.4636 - accuracy: 0.8393 - val_loss: 0.5817 - val_accuracy: 0.8288\n",
      "Epoch 5/10\n",
      "938/938 [==============================] - 4s 4ms/step - loss: 0.4473 - accuracy: 0.8444 - val_loss: 0.4736 - val_accuracy: 0.8461\n",
      "Epoch 6/10\n",
      "938/938 [==============================] - 4s 4ms/step - loss: 0.4271 - accuracy: 0.8501 - val_loss: 0.4965 - val_accuracy: 0.8324\n",
      "Epoch 7/10\n",
      "938/938 [==============================] - 4s 4ms/step - loss: 0.4258 - accuracy: 0.8505 - val_loss: 0.4624 - val_accuracy: 0.8465\n",
      "Epoch 8/10\n",
      "938/938 [==============================] - 4s 4ms/step - loss: 0.4108 - accuracy: 0.8569 - val_loss: 0.4618 - val_accuracy: 0.8436\n",
      "Epoch 9/10\n",
      "938/938 [==============================] - 4s 4ms/step - loss: 0.3976 - accuracy: 0.8604 - val_loss: 0.4244 - val_accuracy: 0.8563\n",
      "Epoch 10/10\n",
      "938/938 [==============================] - 4s 4ms/step - loss: 0.3814 - accuracy: 0.8658 - val_loss: 0.4401 - val_accuracy: 0.8519\n"
     ]
    },
    {
     "data": {
      "text/plain": [
       "<keras.callbacks.History at 0x198a32200c8>"
      ]
     },
     "execution_count": 42,
     "metadata": {},
     "output_type": "execute_result"
    }
   ],
   "source": [
    "tf.random.set_seed(3)\n",
    "\n",
    "# train model\n",
    "model.fit(x_train, y_train, epochs=10, batch_size=64, validation_data=(x_test, y_test))"
   ]
  },
  {
   "cell_type": "code",
   "execution_count": 43,
   "id": "a229b5d5",
   "metadata": {},
   "outputs": [
    {
     "name": "stdout",
     "output_type": "stream",
     "text": [
      "Accuracy: 85.19%\n"
     ]
    }
   ],
   "source": [
    "# Final evaluation of the model\n",
    "scores = model.evaluate(x_test, y_test, verbose=0)\n",
    "print(\"Accuracy: %.2f%%\" % (scores[1]*100))"
   ]
  },
  {
   "cell_type": "code",
   "execution_count": 64,
   "id": "51df0102",
   "metadata": {},
   "outputs": [
    {
     "data": {
      "text/plain": [
       "'      Task 2          '"
      ]
     },
     "execution_count": 64,
     "metadata": {},
     "output_type": "execute_result"
    }
   ],
   "source": [
    "\"\"\"      Task 2          \"\"\""
   ]
  },
  {
   "cell_type": "code",
   "execution_count": 45,
   "id": "56c40250",
   "metadata": {},
   "outputs": [],
   "source": [
    "# Load the libraries\n",
    "import tensorflow as tf\n",
    "from keras.models import Sequential\n",
    "from keras.layers import Dense\n",
    "from keras.layers import Dropout\n",
    "from keras.layers import Flatten\n",
    "from keras.layers import Conv2D\n",
    "from keras.layers import MaxPooling2D\n",
    "from keras.layers import Activation\n",
    "from keras.utils import np_utils\n",
    "\n",
    "# import dataset\n",
    "from keras.datasets import fashion_mnist "
   ]
  },
  {
   "cell_type": "code",
   "execution_count": 46,
   "id": "c8816aad",
   "metadata": {},
   "outputs": [],
   "source": [
    "# train test split\n",
    "(x_train, y_train), (x_test, y_test) = fashion_mnist.load_data() \n",
    "\n",
    "# reshape dataset to have a single channel \n",
    "x_train = x_train.reshape((x_train.shape[0], 28, 28, 1)) \n",
    "x_test = x_test.reshape((x_test.shape[0], 28, 28, 1)) "
   ]
  },
  {
   "cell_type": "code",
   "execution_count": 47,
   "id": "d46f8b3e",
   "metadata": {},
   "outputs": [],
   "source": [
    "# convert the labels to one-hot-vectors\n",
    "y_train = np_utils.to_categorical(y_train, 10)\n",
    "y_test = np_utils.to_categorical(y_test, 10)"
   ]
  },
  {
   "cell_type": "code",
   "execution_count": 48,
   "id": "b54cd86f",
   "metadata": {},
   "outputs": [],
   "source": [
    "model = Sequential()\n",
    "\n",
    "# add a convolutional layer with 32 filters, a 3x3 kernel, and relu as activation function\n",
    "model.add(Conv2D(32, (3, 3), activation='relu', input_shape=(28, 28, 1)))\n",
    "\n",
    "# add a max-pooling layer\n",
    "model.add(MaxPooling2D(pool_size=(2, 2)))\n",
    "\n",
    "# flatten the output\n",
    "model.add(Flatten())\n",
    "\n",
    "# add fully connected layer\n",
    "model.add(Dense(128, activation='relu'))\n",
    "\n",
    "# Output layer with 10 classes\n",
    "model.add(Dense(10, activation='softmax'))  \n",
    "\n",
    "# Compile the model\n",
    "model.compile(optimizer='adam', loss='categorical_crossentropy', metrics=['accuracy'])\n"
   ]
  },
  {
   "cell_type": "code",
   "execution_count": 49,
   "id": "83b5f7aa",
   "metadata": {},
   "outputs": [
    {
     "name": "stdout",
     "output_type": "stream",
     "text": [
      "Model: \"sequential_6\"\n",
      "_________________________________________________________________\n",
      " Layer (type)                Output Shape              Param #   \n",
      "=================================================================\n",
      " conv2d_5 (Conv2D)           (None, 26, 26, 32)        320       \n",
      "                                                                 \n",
      " max_pooling2d_5 (MaxPooling  (None, 13, 13, 32)       0         \n",
      " 2D)                                                             \n",
      "                                                                 \n",
      " flatten_6 (Flatten)         (None, 5408)              0         \n",
      "                                                                 \n",
      " dense_14 (Dense)            (None, 128)               692352    \n",
      "                                                                 \n",
      " dense_15 (Dense)            (None, 10)                1290      \n",
      "                                                                 \n",
      "=================================================================\n",
      "Total params: 693,962\n",
      "Trainable params: 693,962\n",
      "Non-trainable params: 0\n",
      "_________________________________________________________________\n"
     ]
    }
   ],
   "source": [
    "model.summary()"
   ]
  },
  {
   "cell_type": "code",
   "execution_count": 50,
   "id": "6a455a35",
   "metadata": {},
   "outputs": [
    {
     "name": "stdout",
     "output_type": "stream",
     "text": [
      "Epoch 1/10\n",
      "750/750 [==============================] - 18s 23ms/step - loss: 1.2245 - accuracy: 0.8381 - val_loss: 0.3447 - val_accuracy: 0.8827\n",
      "Epoch 2/10\n",
      "750/750 [==============================] - 18s 23ms/step - loss: 0.2772 - accuracy: 0.9013 - val_loss: 0.3178 - val_accuracy: 0.8889\n",
      "Epoch 3/10\n",
      "750/750 [==============================] - 17s 23ms/step - loss: 0.2216 - accuracy: 0.9185 - val_loss: 0.3132 - val_accuracy: 0.8978\n",
      "Epoch 4/10\n",
      "750/750 [==============================] - 17s 23ms/step - loss: 0.1903 - accuracy: 0.9302 - val_loss: 0.3242 - val_accuracy: 0.8897\n",
      "Epoch 5/10\n",
      "750/750 [==============================] - 18s 23ms/step - loss: 0.1652 - accuracy: 0.9381 - val_loss: 0.3296 - val_accuracy: 0.8947\n",
      "Epoch 6/10\n",
      "750/750 [==============================] - 18s 24ms/step - loss: 0.1523 - accuracy: 0.9430 - val_loss: 0.3497 - val_accuracy: 0.8942\n",
      "Epoch 7/10\n",
      "750/750 [==============================] - 18s 23ms/step - loss: 0.1362 - accuracy: 0.9500 - val_loss: 0.3805 - val_accuracy: 0.8938\n",
      "Epoch 8/10\n",
      "750/750 [==============================] - 18s 24ms/step - loss: 0.1320 - accuracy: 0.9512 - val_loss: 0.3877 - val_accuracy: 0.8950\n",
      "Epoch 9/10\n",
      "750/750 [==============================] - 18s 24ms/step - loss: 0.1189 - accuracy: 0.9556 - val_loss: 0.4172 - val_accuracy: 0.8964\n",
      "Epoch 10/10\n",
      "750/750 [==============================] - 18s 23ms/step - loss: 0.1075 - accuracy: 0.9597 - val_loss: 0.4263 - val_accuracy: 0.8952\n"
     ]
    },
    {
     "data": {
      "text/plain": [
       "<keras.callbacks.History at 0x198a0163f88>"
      ]
     },
     "execution_count": 50,
     "metadata": {},
     "output_type": "execute_result"
    }
   ],
   "source": [
    "tf.random.set_seed(5)\n",
    "\n",
    "# train the model\n",
    "model.fit(x_train, y_train, epochs=10, batch_size=64, validation_split=0.2)"
   ]
  },
  {
   "cell_type": "code",
   "execution_count": 51,
   "id": "8ca3d0d2",
   "metadata": {},
   "outputs": [
    {
     "name": "stdout",
     "output_type": "stream",
     "text": [
      "Accuracy: 89.14%\n"
     ]
    }
   ],
   "source": [
    "# Final evaluation of the model\n",
    "scores = model.evaluate(x_test, y_test, verbose=0)\n",
    "print(\"Accuracy: %.2f%%\" % (scores[1]*100))"
   ]
  },
  {
   "cell_type": "code",
   "execution_count": 1,
   "id": "8027342b",
   "metadata": {},
   "outputs": [
    {
     "data": {
      "text/plain": [
       "'     '"
      ]
     },
     "execution_count": 1,
     "metadata": {},
     "output_type": "execute_result"
    }
   ],
   "source": [
    "\"\"\"     \"\"\""
   ]
  },
  {
   "cell_type": "code",
   "execution_count": 59,
   "id": "81febd83",
   "metadata": {},
   "outputs": [
    {
     "data": {
      "text/plain": [
       "'       Adding more layers in Task 2        '"
      ]
     },
     "execution_count": 59,
     "metadata": {},
     "output_type": "execute_result"
    }
   ],
   "source": [
    "\"\"\"       Adding more layers in Task 2        \"\"\""
   ]
  },
  {
   "cell_type": "code",
   "execution_count": 52,
   "id": "2b4da332",
   "metadata": {},
   "outputs": [],
   "source": [
    "# Load the libraries\n",
    "import tensorflow as tf\n",
    "from keras.models import Sequential\n",
    "from keras.layers import Dense\n",
    "from keras.layers import Dropout\n",
    "from keras.layers import Flatten\n",
    "from keras.layers import Conv2D\n",
    "from keras.layers import MaxPooling2D\n",
    "from keras.layers import Activation\n",
    "from keras.utils import np_utils\n",
    "\n",
    "# import dataset\n",
    "from keras.datasets import fashion_mnist "
   ]
  },
  {
   "cell_type": "code",
   "execution_count": 53,
   "id": "7d6fcf5a",
   "metadata": {},
   "outputs": [],
   "source": [
    "# train test split\n",
    "(x_train, y_train), (x_test, y_test) = fashion_mnist.load_data() \n",
    "\n",
    "# reshape dataset to have a single channel \n",
    "x_train = x_train.reshape((x_train.shape[0], 28, 28, 1)) \n",
    "x_test = x_test.reshape((x_test.shape[0], 28, 28, 1)) "
   ]
  },
  {
   "cell_type": "code",
   "execution_count": 54,
   "id": "7c59035a",
   "metadata": {},
   "outputs": [],
   "source": [
    "# convert the labels to one-hot-vectors\n",
    "y_train = np_utils.to_categorical(y_train, 10)\n",
    "y_test = np_utils.to_categorical(y_test, 10)"
   ]
  },
  {
   "cell_type": "code",
   "execution_count": 55,
   "id": "e54757a8",
   "metadata": {},
   "outputs": [],
   "source": [
    "model = Sequential()\n",
    "\n",
    "# Add a convolutional layer with 32 filters, a 3x3 kernel, and ReLU activation function\n",
    "model.add(Conv2D(32, (3, 3), activation='relu', input_shape=(28, 28, 1)))\n",
    "\n",
    "# Add a max-pooling layer\n",
    "model.add(MaxPooling2D(pool_size=(2, 2)))\n",
    "\n",
    "# Add more convolutional layers\n",
    "model.add(Conv2D(64, (3, 3), activation='relu'))\n",
    "\n",
    "# add a max-pooling layer\n",
    "model.add(MaxPooling2D(pool_size=(2, 2)))\n",
    "\n",
    "# Flatten the output\n",
    "model.add(Flatten())\n",
    "\n",
    "# Add fully connected layers\n",
    "model.add(Dense(128, activation='relu'))\n",
    "\n",
    "# output layer\n",
    "model.add(Dense(10, activation='softmax'))\n",
    "\n",
    "# Compile the model\n",
    "model.compile(optimizer='adam', loss='categorical_crossentropy', metrics=['accuracy'])"
   ]
  },
  {
   "cell_type": "code",
   "execution_count": 56,
   "id": "f3259390",
   "metadata": {},
   "outputs": [
    {
     "name": "stdout",
     "output_type": "stream",
     "text": [
      "Model: \"sequential_7\"\n",
      "_________________________________________________________________\n",
      " Layer (type)                Output Shape              Param #   \n",
      "=================================================================\n",
      " conv2d_6 (Conv2D)           (None, 26, 26, 32)        320       \n",
      "                                                                 \n",
      " max_pooling2d_6 (MaxPooling  (None, 13, 13, 32)       0         \n",
      " 2D)                                                             \n",
      "                                                                 \n",
      " conv2d_7 (Conv2D)           (None, 11, 11, 64)        18496     \n",
      "                                                                 \n",
      " max_pooling2d_7 (MaxPooling  (None, 5, 5, 64)         0         \n",
      " 2D)                                                             \n",
      "                                                                 \n",
      " flatten_7 (Flatten)         (None, 1600)              0         \n",
      "                                                                 \n",
      " dense_16 (Dense)            (None, 128)               204928    \n",
      "                                                                 \n",
      " dense_17 (Dense)            (None, 10)                1290      \n",
      "                                                                 \n",
      "=================================================================\n",
      "Total params: 225,034\n",
      "Trainable params: 225,034\n",
      "Non-trainable params: 0\n",
      "_________________________________________________________________\n"
     ]
    }
   ],
   "source": [
    "model.summary()"
   ]
  },
  {
   "cell_type": "code",
   "execution_count": 57,
   "id": "c29fb41a",
   "metadata": {},
   "outputs": [
    {
     "name": "stdout",
     "output_type": "stream",
     "text": [
      "Epoch 1/10\n",
      "750/750 [==============================] - 23s 30ms/step - loss: 0.9146 - accuracy: 0.8040 - val_loss: 0.4570 - val_accuracy: 0.8369\n",
      "Epoch 2/10\n",
      "750/750 [==============================] - 22s 30ms/step - loss: 0.3661 - accuracy: 0.8666 - val_loss: 0.3514 - val_accuracy: 0.8742\n",
      "Epoch 3/10\n",
      "750/750 [==============================] - 22s 29ms/step - loss: 0.3078 - accuracy: 0.8859 - val_loss: 0.3222 - val_accuracy: 0.8819\n",
      "Epoch 4/10\n",
      "750/750 [==============================] - 22s 29ms/step - loss: 0.2702 - accuracy: 0.8997 - val_loss: 0.3229 - val_accuracy: 0.8847\n",
      "Epoch 5/10\n",
      "750/750 [==============================] - 22s 30ms/step - loss: 0.2481 - accuracy: 0.9067 - val_loss: 0.3764 - val_accuracy: 0.8704\n",
      "Epoch 6/10\n",
      "750/750 [==============================] - 22s 30ms/step - loss: 0.2290 - accuracy: 0.9124 - val_loss: 0.3322 - val_accuracy: 0.8849\n",
      "Epoch 7/10\n",
      "750/750 [==============================] - 22s 29ms/step - loss: 0.2166 - accuracy: 0.9184 - val_loss: 0.3346 - val_accuracy: 0.8883\n",
      "Epoch 8/10\n",
      "750/750 [==============================] - 22s 29ms/step - loss: 0.1987 - accuracy: 0.9248 - val_loss: 0.3264 - val_accuracy: 0.8894\n",
      "Epoch 9/10\n",
      "750/750 [==============================] - 22s 29ms/step - loss: 0.1813 - accuracy: 0.9317 - val_loss: 0.3540 - val_accuracy: 0.8831\n",
      "Epoch 10/10\n",
      "750/750 [==============================] - 21s 29ms/step - loss: 0.1754 - accuracy: 0.9346 - val_loss: 0.3626 - val_accuracy: 0.8888\n"
     ]
    },
    {
     "data": {
      "text/plain": [
       "<keras.callbacks.History at 0x198a3e3d588>"
      ]
     },
     "execution_count": 57,
     "metadata": {},
     "output_type": "execute_result"
    }
   ],
   "source": [
    "tf.random.set_seed(6)\n",
    "\n",
    "# train the model\n",
    "model.fit(x_train, y_train, epochs=10, batch_size=64, validation_split=0.2)"
   ]
  },
  {
   "cell_type": "code",
   "execution_count": 58,
   "id": "d0a1a349",
   "metadata": {},
   "outputs": [
    {
     "name": "stdout",
     "output_type": "stream",
     "text": [
      "Accuracy: 88.36%\n"
     ]
    }
   ],
   "source": [
    "# Final evaluation of the model\n",
    "scores = model.evaluate(x_test, y_test, verbose=0)\n",
    "print(\"Accuracy: %.2f%%\" % (scores[1]*100))"
   ]
  },
  {
   "cell_type": "code",
   "execution_count": 12,
   "id": "d5b62d0a",
   "metadata": {},
   "outputs": [
    {
     "data": {
      "text/plain": [
       "' '"
      ]
     },
     "execution_count": 12,
     "metadata": {},
     "output_type": "execute_result"
    }
   ],
   "source": [
    "\"\"\" \"\"\""
   ]
  },
  {
   "cell_type": "code",
   "execution_count": 14,
   "id": "4ab976a2",
   "metadata": {},
   "outputs": [
    {
     "data": {
      "text/plain": [
       "'      Task 3       '"
      ]
     },
     "execution_count": 14,
     "metadata": {},
     "output_type": "execute_result"
    }
   ],
   "source": [
    "\"\"\"      Task 3       \"\"\""
   ]
  },
  {
   "cell_type": "code",
   "execution_count": 15,
   "id": "6d154549",
   "metadata": {},
   "outputs": [
    {
     "data": {
      "text/plain": [
       "'      Adjusting learning rate        '"
      ]
     },
     "execution_count": 15,
     "metadata": {},
     "output_type": "execute_result"
    }
   ],
   "source": [
    "\"\"\"      Adjusting learning rate        \"\"\""
   ]
  },
  {
   "cell_type": "code",
   "execution_count": 16,
   "id": "b5e83271",
   "metadata": {},
   "outputs": [],
   "source": [
    "# Load the libraries\n",
    "import tensorflow as tf\n",
    "from keras.models import Sequential\n",
    "from keras.layers import Dense\n",
    "from keras.layers import Dropout\n",
    "from keras.layers import Flatten\n",
    "from keras.layers import Conv2D\n",
    "from keras.layers import MaxPooling2D\n",
    "from keras.layers import Activation\n",
    "from keras.utils import np_utils\n",
    "from keras.optimizers import Adam\n",
    "\n",
    "# import dataset\n",
    "from keras.datasets import fashion_mnist "
   ]
  },
  {
   "cell_type": "code",
   "execution_count": 17,
   "id": "37e4e31b",
   "metadata": {},
   "outputs": [],
   "source": [
    "# train test split\n",
    "(x_train, y_train), (x_test, y_test) = fashion_mnist.load_data() \n",
    "\n",
    "# reshape dataset to have a single channel \n",
    "x_train = x_train.reshape((x_train.shape[0], 28, 28, 1)) \n",
    "x_test = x_test.reshape((x_test.shape[0], 28, 28, 1)) "
   ]
  },
  {
   "cell_type": "code",
   "execution_count": 18,
   "id": "6307bea2",
   "metadata": {},
   "outputs": [],
   "source": [
    "# convert the labels to one-hot-vectors\n",
    "y_train = np_utils.to_categorical(y_train, 10)\n",
    "y_test = np_utils.to_categorical(y_test, 10)"
   ]
  },
  {
   "cell_type": "code",
   "execution_count": 19,
   "id": "c7ea7336",
   "metadata": {},
   "outputs": [],
   "source": [
    "model = Sequential()\n",
    "\n",
    "# add a convolutional layer with 32 filters, a 3x3 kernel, and relu as activation function\n",
    "model.add(Conv2D(32, (3, 3), activation='relu', input_shape=(28, 28, 1)))\n",
    "\n",
    "# add a max-pooling layer\n",
    "model.add(MaxPooling2D(pool_size=(2, 2)))\n",
    "\n",
    "# Flatten the output\n",
    "model.add(Flatten())\n",
    "\n",
    "# add fully connected layers\n",
    "model.add(Dense(128, activation='relu'))\n",
    "\n",
    "# Output layer with 10 classes\n",
    "model.add(Dense(10, activation='softmax'))\n",
    "\n",
    "# learning rate\n",
    "Optimizer = Adam(learning_rate=0.01) \n",
    "\n",
    "# Compile the model\n",
    "model.compile(optimizer=Optimizer, loss='categorical_crossentropy', metrics=['accuracy'])"
   ]
  },
  {
   "cell_type": "code",
   "execution_count": 20,
   "id": "9073446d",
   "metadata": {},
   "outputs": [
    {
     "name": "stdout",
     "output_type": "stream",
     "text": [
      "Epoch 1/10\n",
      "750/750 [==============================] - 24s 31ms/step - loss: 2.2420 - accuracy: 0.8035 - val_loss: 0.4379 - val_accuracy: 0.8394\n",
      "Epoch 2/10\n",
      "750/750 [==============================] - 22s 30ms/step - loss: 0.4125 - accuracy: 0.8472 - val_loss: 0.4265 - val_accuracy: 0.8514\n",
      "Epoch 3/10\n",
      "750/750 [==============================] - 23s 30ms/step - loss: 0.3702 - accuracy: 0.8617 - val_loss: 0.4329 - val_accuracy: 0.8503\n",
      "Epoch 4/10\n",
      "750/750 [==============================] - 24s 32ms/step - loss: 0.3606 - accuracy: 0.8663 - val_loss: 0.4574 - val_accuracy: 0.8470\n",
      "Epoch 5/10\n",
      "750/750 [==============================] - 23s 31ms/step - loss: 0.3474 - accuracy: 0.8710 - val_loss: 0.4249 - val_accuracy: 0.8573\n",
      "Epoch 6/10\n",
      "750/750 [==============================] - 22s 29ms/step - loss: 0.3544 - accuracy: 0.8707 - val_loss: 0.4674 - val_accuracy: 0.8429\n",
      "Epoch 7/10\n",
      "750/750 [==============================] - 22s 29ms/step - loss: 0.3586 - accuracy: 0.8695 - val_loss: 0.4685 - val_accuracy: 0.8419\n",
      "Epoch 8/10\n",
      "750/750 [==============================] - 22s 29ms/step - loss: 0.3698 - accuracy: 0.8664 - val_loss: 0.5772 - val_accuracy: 0.8227\n",
      "Epoch 9/10\n",
      "750/750 [==============================] - 21s 28ms/step - loss: 0.3773 - accuracy: 0.8664 - val_loss: 0.4618 - val_accuracy: 0.8445\n",
      "Epoch 10/10\n",
      "750/750 [==============================] - 16s 22ms/step - loss: 0.3553 - accuracy: 0.8703 - val_loss: 0.5407 - val_accuracy: 0.8412\n"
     ]
    },
    {
     "data": {
      "text/plain": [
       "<keras.callbacks.History at 0x198a73a0108>"
      ]
     },
     "execution_count": 20,
     "metadata": {},
     "output_type": "execute_result"
    }
   ],
   "source": [
    "tf.random.set_seed(7)\n",
    "\n",
    "# train the model\n",
    "model.fit(x_train, y_train, epochs=10, batch_size=64, validation_split=0.2)"
   ]
  },
  {
   "cell_type": "code",
   "execution_count": 21,
   "id": "4a4c084d",
   "metadata": {},
   "outputs": [
    {
     "name": "stdout",
     "output_type": "stream",
     "text": [
      "Accuracy: 82.04%\n"
     ]
    }
   ],
   "source": [
    "# Final evaluation of the model\n",
    "scores = model.evaluate(x_test, y_test, verbose=0)\n",
    "print(\"Accuracy: %.2f%%\" % (scores[1]*100))"
   ]
  },
  {
   "cell_type": "code",
   "execution_count": null,
   "id": "e52c15b8",
   "metadata": {},
   "outputs": [],
   "source": [
    "\"\"\"      \"\"\""
   ]
  },
  {
   "cell_type": "code",
   "execution_count": null,
   "id": "ddbe3213",
   "metadata": {},
   "outputs": [],
   "source": [
    "\"\"\"      Change of Optimizer       \"\"\"  \"\"\"  Using SGD  \"\"\""
   ]
  },
  {
   "cell_type": "code",
   "execution_count": 22,
   "id": "b3f8acce",
   "metadata": {},
   "outputs": [],
   "source": [
    "# Load the libraries\n",
    "import tensorflow as tf\n",
    "from keras.models import Sequential\n",
    "from keras.layers import Dense\n",
    "from keras.layers import Dropout\n",
    "from keras.layers import Flatten\n",
    "from keras.layers import Conv2D\n",
    "from keras.layers import MaxPooling2D\n",
    "from keras.layers import Activation\n",
    "from keras.utils import np_utils\n",
    "from keras.optimizers import Adam\n",
    "\n",
    "# import dataset\n",
    "from keras.datasets import fashion_mnist "
   ]
  },
  {
   "cell_type": "code",
   "execution_count": 23,
   "id": "83cb3141",
   "metadata": {},
   "outputs": [],
   "source": [
    "# train test split\n",
    "(x_train, y_train), (x_test, y_test) = fashion_mnist.load_data() \n",
    "\n",
    "# reshape dataset to have a single channel \n",
    "x_train = x_train.reshape((x_train.shape[0], 28, 28, 1)) \n",
    "x_test = x_test.reshape((x_test.shape[0], 28, 28, 1)) "
   ]
  },
  {
   "cell_type": "code",
   "execution_count": 24,
   "id": "5eddacfb",
   "metadata": {},
   "outputs": [],
   "source": [
    "# convert the labels to one-hot-vectors\n",
    "y_train = np_utils.to_categorical(y_train, 10)\n",
    "y_test = np_utils.to_categorical(y_test, 10)"
   ]
  },
  {
   "cell_type": "code",
   "execution_count": 25,
   "id": "3a1cfee4",
   "metadata": {},
   "outputs": [],
   "source": [
    "model = Sequential()\n",
    "\n",
    "# add a convolutional layer with 32 filters, a 3x3 kernel, and relu as activation function\n",
    "model.add(Conv2D(32, (3, 3), activation='relu', input_shape=(28, 28, 1)))\n",
    "\n",
    "# add a max-pooling layer\n",
    "model.add(MaxPooling2D(pool_size=(2, 2)))\n",
    "\n",
    "# Flatten the output\n",
    "model.add(Flatten())\n",
    "\n",
    "# add fully connected layers\n",
    "model.add(Dense(128, activation='relu'))\n",
    "\n",
    "# Output layer with 10 classes\n",
    "model.add(Dense(10, activation='softmax'))\n",
    "\n",
    "# Compile the model\n",
    "model.compile(optimizer='sgd', loss='categorical_crossentropy', metrics=['accuracy'])"
   ]
  },
  {
   "cell_type": "code",
   "execution_count": 26,
   "id": "510517e3",
   "metadata": {},
   "outputs": [
    {
     "name": "stdout",
     "output_type": "stream",
     "text": [
      "Epoch 1/10\n",
      "750/750 [==============================] - 16s 21ms/step - loss: 4.4901 - accuracy: 0.4960 - val_loss: 0.6956 - val_accuracy: 0.7560\n",
      "Epoch 2/10\n",
      "750/750 [==============================] - 16s 22ms/step - loss: 0.6973 - accuracy: 0.7387 - val_loss: 0.5783 - val_accuracy: 0.7858\n",
      "Epoch 3/10\n",
      "750/750 [==============================] - 16s 21ms/step - loss: 0.5641 - accuracy: 0.7903 - val_loss: 0.5013 - val_accuracy: 0.8168\n",
      "Epoch 4/10\n",
      "750/750 [==============================] - 16s 21ms/step - loss: 0.4957 - accuracy: 0.8171 - val_loss: 0.4915 - val_accuracy: 0.8215\n",
      "Epoch 5/10\n",
      "750/750 [==============================] - 16s 21ms/step - loss: 0.4644 - accuracy: 0.8281 - val_loss: 0.4782 - val_accuracy: 0.8208\n",
      "Epoch 6/10\n",
      "750/750 [==============================] - 16s 21ms/step - loss: 0.4440 - accuracy: 0.8330 - val_loss: 0.4818 - val_accuracy: 0.8224\n",
      "Epoch 7/10\n",
      "750/750 [==============================] - 16s 21ms/step - loss: 0.4295 - accuracy: 0.8390 - val_loss: 0.4361 - val_accuracy: 0.8399\n",
      "Epoch 8/10\n",
      "750/750 [==============================] - 16s 21ms/step - loss: 0.4175 - accuracy: 0.8436 - val_loss: 0.4574 - val_accuracy: 0.8311\n",
      "Epoch 9/10\n",
      "750/750 [==============================] - 16s 21ms/step - loss: 0.4087 - accuracy: 0.8439 - val_loss: 0.4379 - val_accuracy: 0.8407\n",
      "Epoch 10/10\n",
      "750/750 [==============================] - 16s 22ms/step - loss: 0.3956 - accuracy: 0.8496 - val_loss: 0.4295 - val_accuracy: 0.8438\n"
     ]
    },
    {
     "data": {
      "text/plain": [
       "<keras.callbacks.History at 0x198a258d388>"
      ]
     },
     "execution_count": 26,
     "metadata": {},
     "output_type": "execute_result"
    }
   ],
   "source": [
    "tf.random.set_seed(12)\n",
    "\n",
    "# train the model\n",
    "model.fit(x_train, y_train, epochs=10, batch_size=64, validation_split=0.2)"
   ]
  },
  {
   "cell_type": "code",
   "execution_count": 27,
   "id": "414586a6",
   "metadata": {},
   "outputs": [
    {
     "name": "stdout",
     "output_type": "stream",
     "text": [
      "Accuracy: 83.31%\n"
     ]
    }
   ],
   "source": [
    "# Final evaluation of the model\n",
    "scores = model.evaluate(x_test, y_test, verbose=0)\n",
    "print(\"Accuracy: %.2f%%\" % (scores[1]*100))"
   ]
  },
  {
   "cell_type": "code",
   "execution_count": null,
   "id": "df0b0643",
   "metadata": {},
   "outputs": [],
   "source": []
  }
 ],
 "metadata": {
  "kernelspec": {
   "display_name": "Python 3 (ipykernel)",
   "language": "python",
   "name": "python3"
  },
  "language_info": {
   "codemirror_mode": {
    "name": "ipython",
    "version": 3
   },
   "file_extension": ".py",
   "mimetype": "text/x-python",
   "name": "python",
   "nbconvert_exporter": "python",
   "pygments_lexer": "ipython3",
   "version": "3.7.16"
  }
 },
 "nbformat": 4,
 "nbformat_minor": 5
}
