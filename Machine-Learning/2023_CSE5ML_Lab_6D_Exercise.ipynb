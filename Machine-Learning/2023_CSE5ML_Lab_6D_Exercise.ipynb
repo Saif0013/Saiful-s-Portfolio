{
 "cells": [
  {
   "cell_type": "markdown",
   "id": "069fee4d",
   "metadata": {},
   "source": [
    "## Build a neural network based on Tensorflow for a real world task"
   ]
  },
  {
   "cell_type": "markdown",
   "id": "a2a04642",
   "metadata": {},
   "source": [
    "This dataset is originally from the National Institute of Diabetes and Digestive and Kidney Diseases. The objective of the dataset is to diagnostically predict whether or not a patient has diabetes, based on certain diagnostic measurements included in the dataset. Detailed description of the dataset can be found here: https://www.kaggle.com/uciml/pima-indians-diabetes-database"
   ]
  },
  {
   "cell_type": "markdown",
   "id": "a43691a7",
   "metadata": {},
   "source": [
    "Question: What type of model should you build? A regression model or classification model?"
   ]
  },
  {
   "cell_type": "markdown",
   "id": "014e6e86",
   "metadata": {},
   "source": [
    "Answer: Classification model. Because the target variable is a binary variable."
   ]
  },
  {
   "cell_type": "markdown",
   "id": "bc996024",
   "metadata": {},
   "source": [
    "### load the dataset"
   ]
  },
  {
   "cell_type": "code",
   "execution_count": 1,
   "id": "b7b8d505",
   "metadata": {},
   "outputs": [],
   "source": [
    "import pandas as pd\n",
    "\n",
    "filename = 'diabetes.csv'\n",
    "dataframe = pd.read_csv(filename, header=0) # first row is set as the column name of the dataframe\n",
    "array = dataframe.values\n",
    "X = array[:,0:8]\n",
    "y = array[:,8]"
   ]
  },
  {
   "cell_type": "markdown",
   "id": "ea964d02",
   "metadata": {},
   "source": [
    "### Create input x and y with placeholder"
   ]
  },
  {
   "cell_type": "code",
   "execution_count": 3,
   "id": "653d756b",
   "metadata": {},
   "outputs": [],
   "source": [
    "import tensorflow as tf\n",
    "\n",
    "tf_x = tf.placeholder(tf.float32, X.shape)     # input x\n",
    "tf_y = tf.placeholder(tf.int32, y.shape)       # input y"
   ]
  },
  {
   "cell_type": "markdown",
   "id": "95ee40d5",
   "metadata": {},
   "source": [
    "### Build a neural network with 2 hidden layers\n",
    "First hidden layer with 15 neurons and second hidden layer with 10 neurons. Remember that the output of first layer should be the input of the second layer\n",
    "\n",
    "Think: The network structure need to be completed with an output layer, how many neurons should we have for the output layer in this task?"
   ]
  },
  {
   "cell_type": "code",
   "execution_count": 5,
   "id": "8fb314a0",
   "metadata": {},
   "outputs": [],
   "source": [
    "# neural network layers\n",
    "l1 = tf.layers.Dense(15, tf.nn.relu)(tf_x)          # hidden layer 15 hidden nodes\n",
    "l2 = tf.layers.Dense(10, tf.nn.relu)(l1)             # hidden layer 10 hidden nodes\n",
    "output = tf.layers.Dense(2)(l2)                     # output layer 2 nodes (one for each class)"
   ]
  },
  {
   "cell_type": "markdown",
   "id": "33e378cb",
   "metadata": {},
   "source": [
    "### Define the loss function with softmax activation"
   ]
  },
  {
   "cell_type": "code",
   "execution_count": 7,
   "id": "db87f6af",
   "metadata": {},
   "outputs": [],
   "source": [
    "loss = tf.losses.sparse_softmax_cross_entropy(labels=tf_y, logits=output)           # compute loss for classfication tasks"
   ]
  },
  {
   "cell_type": "markdown",
   "id": "78128b41",
   "metadata": {},
   "source": [
    "### Calculate Accuracy"
   ]
  },
  {
   "cell_type": "code",
   "execution_count": 9,
   "id": "06891c5e",
   "metadata": {},
   "outputs": [],
   "source": [
    "# calculate accuracy\n",
    "# tf.metrics.accuracy(): return (acc, update_op), update_op is an operation that calculate and update accuracy \n",
    "# tf.squeeze(): Removes dimensions of size 1 from the shape of a tensor.\n",
    "# tf.argmax(): Returns the index with the largest value across axes of a tensor. axis=1: across column\n",
    "accuracy = tf.metrics.accuracy(\n",
    "    labels=tf.squeeze(tf_y), predictions=tf.argmax(output, axis=1))[1]             "
   ]
  },
  {
   "cell_type": "markdown",
   "id": "cfbb15ad",
   "metadata": {},
   "source": [
    "### Define optimizer with gradient descent"
   ]
  },
  {
   "cell_type": "code",
   "execution_count": 11,
   "id": "89b50c21",
   "metadata": {},
   "outputs": [],
   "source": [
    "# Set gradient descent as the optimization algorithm\n",
    "optimizer = tf.train.GradientDescentOptimizer(learning_rate=0.05) # you can try change lr here\n",
    "train_op = optimizer.minimize(loss)"
   ]
  },
  {
   "cell_type": "markdown",
   "id": "b12b0490",
   "metadata": {},
   "source": [
    "### Train the neural network model\n",
    "Remember always initialze before training the model"
   ]
  },
  {
   "cell_type": "code",
   "execution_count": 14,
   "id": "db349b5c",
   "metadata": {},
   "outputs": [
    {
     "name": "stdout",
     "output_type": "stream",
     "text": [
      "Step:  0, Accuracy: 0.45\n",
      "Step: 20, Accuracy: 0.61\n",
      "Step: 40, Accuracy: 0.63\n",
      "Step: 60, Accuracy: 0.64\n",
      "Step: 80, Accuracy: 0.65\n",
      "Step: 100, Accuracy: 0.65\n",
      "Step: 120, Accuracy: 0.65\n",
      "Step: 140, Accuracy: 0.65\n",
      "Step: 160, Accuracy: 0.66\n",
      "Step: 180, Accuracy: 0.66\n"
     ]
    }
   ],
   "source": [
    "sess = tf.Session()\n",
    "init_op = tf.group(tf.global_variables_initializer(), tf.local_variables_initializer())   # tf.local_variables_initializer() is for initializing the local variables created in tf.metrics.accuracy(), detailed reasons can be found here: https://stackoverflow.com/questions/46409626/how-to-properly-use-tf-metrics-accuracy\n",
    "sess.run(init_op)     # initialize var in graph\n",
    "\n",
    "for step in range(200): \n",
    "    # train and net output\n",
    "    _, acc, pred = sess.run([train_op, accuracy, output], {tf_x: X, tf_y: y})\n",
    "    if step % 20 == 0:\n",
    "        print(\"Step: %2d, Accuracy: %.2f\" % (step, acc))"
   ]
  },
  {
   "cell_type": "code",
   "execution_count": null,
   "id": "1496255f",
   "metadata": {},
   "outputs": [],
   "source": []
  }
 ],
 "metadata": {
  "kernelspec": {
   "display_name": "Python 3 (ipykernel)",
   "language": "python",
   "name": "python3"
  },
  "language_info": {
   "codemirror_mode": {
    "name": "ipython",
    "version": 3
   },
   "file_extension": ".py",
   "mimetype": "text/x-python",
   "name": "python",
   "nbconvert_exporter": "python",
   "pygments_lexer": "ipython3",
   "version": "3.7.16"
  }
 },
 "nbformat": 4,
 "nbformat_minor": 5
}
