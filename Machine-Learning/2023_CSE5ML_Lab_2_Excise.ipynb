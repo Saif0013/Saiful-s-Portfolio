{
 "cells": [
  {
   "cell_type": "markdown",
   "id": "fbdc4a87",
   "metadata": {},
   "source": [
    "Q1: Create a 1D array of numbers from 0 to 9"
   ]
  },
  {
   "cell_type": "code",
   "execution_count": 2,
   "id": "12a3c5c3",
   "metadata": {},
   "outputs": [
    {
     "name": "stdout",
     "output_type": "stream",
     "text": [
      "[0 1 2 3 4 5 6 7 8 9]\n"
     ]
    }
   ],
   "source": [
    "import numpy as np\n",
    "\n",
    "arr = np.arange(10)\n",
    "print(arr)"
   ]
  },
  {
   "cell_type": "markdown",
   "id": "3c7479f3",
   "metadata": {},
   "source": [
    "Q2: Create a 3×3 numpy array of all True’s"
   ]
  },
  {
   "cell_type": "code",
   "execution_count": 2,
   "id": "a2b60972",
   "metadata": {},
   "outputs": [
    {
     "name": "stdout",
     "output_type": "stream",
     "text": [
      "[[ True  True  True]\n",
      " [ True  True  True]\n",
      " [ True  True  True]]\n"
     ]
    }
   ],
   "source": [
    "arr = np.full((3, 3), True, dtype=bool)\n",
    "# alternative answer:\n",
    "# np.ones((3,3), dtype=bool)\n",
    "print(arr)"
   ]
  },
  {
   "cell_type": "markdown",
   "id": "4c84a8d2",
   "metadata": {},
   "source": [
    "Q3: Extract all odd numbers from `arr`, which is a 1D array of numbers from 0 to 9"
   ]
  },
  {
   "cell_type": "code",
   "execution_count": 3,
   "id": "8011e150",
   "metadata": {},
   "outputs": [
    {
     "name": "stdout",
     "output_type": "stream",
     "text": [
      "[1 3 5 7 9]\n"
     ]
    }
   ],
   "source": [
    "arr = np.arange(10)\n",
    "odd = arr[arr % 2 == 1]\n",
    "print(odd)"
   ]
  },
  {
   "cell_type": "markdown",
   "id": "eb2388ee",
   "metadata": {},
   "source": [
    "Q4: Replace all odd numbers in `arr` with -1"
   ]
  },
  {
   "cell_type": "code",
   "execution_count": 4,
   "id": "2bc9f744",
   "metadata": {},
   "outputs": [
    {
     "name": "stdout",
     "output_type": "stream",
     "text": [
      "[ 0 -1  2 -1  4 -1  6 -1  8 -1]\n"
     ]
    }
   ],
   "source": [
    "arr[arr % 2 == 1] = -1\n",
    "print(arr)"
   ]
  },
  {
   "cell_type": "markdown",
   "id": "c056068f",
   "metadata": {},
   "source": [
    "Q5: Convert a 1D array (numbers from 0 to 9) to a 2D array with 2 rows"
   ]
  },
  {
   "cell_type": "code",
   "execution_count": 5,
   "id": "cf0be11d",
   "metadata": {},
   "outputs": [
    {
     "name": "stdout",
     "output_type": "stream",
     "text": [
      "[[0 1 2 3 4]\n",
      " [5 6 7 8 9]]\n"
     ]
    }
   ],
   "source": [
    "arr = np.arange(10)\n",
    "# for reshape(), the new shape should be compatible with the original shape, so -1 here mean that\n",
    "# it is 10/2 = 5\n",
    "arr = arr.reshape(2, -1)  \n",
    "print(arr)"
   ]
  },
  {
   "cell_type": "markdown",
   "id": "1790e416",
   "metadata": {},
   "source": [
    "Q6: Stack arrays `a` and `b` vertically, where `a` is a 2D array filled with 1 with shape (2, 5), and `b` is a 2D array filled with 3 with shape (2, 5), set the dtype of both arrays with int16"
   ]
  },
  {
   "cell_type": "code",
   "execution_count": 6,
   "id": "d9b4f9ed",
   "metadata": {},
   "outputs": [
    {
     "name": "stdout",
     "output_type": "stream",
     "text": [
      "[[1 1 1 1 1]\n",
      " [1 1 1 1 1]\n",
      " [3 3 3 3 3]\n",
      " [3 3 3 3 3]]\n"
     ]
    }
   ],
   "source": [
    "a = np.ones((2,5), dtype=np.int16)\n",
    "b = np.full((2,5), 3, dtype=np.int16) \n",
    "c = np.vstack([a, b])\n",
    "print(c)"
   ]
  },
  {
   "cell_type": "markdown",
   "id": "76b4bfbc",
   "metadata": {},
   "source": [
    "Q7: Stack the previously defined arrays `a` and `b` horizontally"
   ]
  },
  {
   "cell_type": "code",
   "execution_count": 7,
   "id": "7fcc5f2b",
   "metadata": {},
   "outputs": [
    {
     "name": "stdout",
     "output_type": "stream",
     "text": [
      "[[1 1 1 1 1 3 3 3 3 3]\n",
      " [1 1 1 1 1 3 3 3 3 3]]\n"
     ]
    }
   ],
   "source": [
    "d = np.hstack([a, b])\n",
    "print(d)"
   ]
  },
  {
   "cell_type": "markdown",
   "id": "82575eb5",
   "metadata": {},
   "source": [
    "Q8: Get all items between 5 and 10 from `a`"
   ]
  },
  {
   "cell_type": "code",
   "execution_count": 3,
   "id": "32a0c3d0",
   "metadata": {},
   "outputs": [],
   "source": [
    "a = np.array([2, 6, 1, 9, 10, 3, 27])"
   ]
  },
  {
   "cell_type": "code",
   "execution_count": 4,
   "id": "d94c24aa",
   "metadata": {},
   "outputs": [
    {
     "data": {
      "text/plain": [
       "array([ 6,  9, 10])"
      ]
     },
     "execution_count": 4,
     "metadata": {},
     "output_type": "execute_result"
    }
   ],
   "source": [
    "a[(a >= 5) & (a <= 10)]"
   ]
  },
  {
   "cell_type": "markdown",
   "id": "086e16ba",
   "metadata": {},
   "source": [
    "Q9: Swap columns 1 and 2 in the array `arr`"
   ]
  },
  {
   "cell_type": "code",
   "execution_count": 10,
   "id": "c5bee8b7",
   "metadata": {},
   "outputs": [],
   "source": [
    "arr = np.arange(9).reshape(3,3)"
   ]
  },
  {
   "cell_type": "code",
   "execution_count": 11,
   "id": "c5fba4c4",
   "metadata": {},
   "outputs": [
    {
     "name": "stdout",
     "output_type": "stream",
     "text": [
      "[[1 0 2]\n",
      " [4 3 5]\n",
      " [7 6 8]]\n"
     ]
    }
   ],
   "source": [
    "new_arr = arr[:, [1,0,2]]\n",
    "print(new_arr)"
   ]
  },
  {
   "cell_type": "markdown",
   "id": "400757f0",
   "metadata": {},
   "source": [
    "Q10: Swap rows 1 and 2 in the array `arr` we just defined"
   ]
  },
  {
   "cell_type": "code",
   "execution_count": 12,
   "id": "487feea6",
   "metadata": {},
   "outputs": [
    {
     "name": "stdout",
     "output_type": "stream",
     "text": [
      "[[3 4 5]\n",
      " [0 1 2]\n",
      " [6 7 8]]\n"
     ]
    }
   ],
   "source": [
    "new_arr = arr[[1,0,2], :]\n",
    "print(new_arr)"
   ]
  },
  {
   "cell_type": "markdown",
   "id": "fc130dc8",
   "metadata": {},
   "source": [
    "Q11: Reverse the a 1D `arr` of numbers from 0 to 9"
   ]
  },
  {
   "cell_type": "code",
   "execution_count": 13,
   "id": "062932a1",
   "metadata": {},
   "outputs": [
    {
     "name": "stdout",
     "output_type": "stream",
     "text": [
      "[9 8 7 6 5 4 3 2 1 0]\n"
     ]
    }
   ],
   "source": [
    "arr = np.arange(10)\n",
    "new_arr = arr[::-1]\n",
    "print(new_arr)"
   ]
  },
  {
   "cell_type": "markdown",
   "id": "9a33ccf8",
   "metadata": {},
   "source": [
    "Q12: Create a 2D array of shape 5x3 to contain random float numbers between 0 and 20"
   ]
  },
  {
   "cell_type": "code",
   "execution_count": 14,
   "id": "e69890ac",
   "metadata": {},
   "outputs": [
    {
     "name": "stdout",
     "output_type": "stream",
     "text": [
      "[[ 3.78056802 13.59820499  1.95680979]\n",
      " [16.90372794 11.95938918  0.8927939 ]\n",
      " [ 3.11029167 19.81544328  2.51540445]\n",
      " [16.23533949 12.42680576 11.11048631]\n",
      " [ 8.0719863  15.59923181 16.21154106]]\n"
     ]
    }
   ],
   "source": [
    "arr = 20*np.random.random((5,3))\n",
    "print(arr)"
   ]
  },
  {
   "cell_type": "markdown",
   "id": "af23e0c1",
   "metadata": {},
   "source": [
    "Q13: compute the sum of all elements in arr that you just created"
   ]
  },
  {
   "cell_type": "code",
   "execution_count": 15,
   "id": "0adb2101",
   "metadata": {},
   "outputs": [
    {
     "name": "stdout",
     "output_type": "stream",
     "text": [
      "154.1880239644456\n"
     ]
    }
   ],
   "source": [
    "sum = np.sum(arr)\n",
    "print(sum)"
   ]
  },
  {
   "cell_type": "code",
   "execution_count": null,
   "id": "e34aa4e0",
   "metadata": {},
   "outputs": [],
   "source": []
  }
 ],
 "metadata": {
  "kernelspec": {
   "display_name": "Python 3 (ipykernel)",
   "language": "python",
   "name": "python3"
  },
  "language_info": {
   "codemirror_mode": {
    "name": "ipython",
    "version": 3
   },
   "file_extension": ".py",
   "mimetype": "text/x-python",
   "name": "python",
   "nbconvert_exporter": "python",
   "pygments_lexer": "ipython3",
   "version": "3.7.16"
  }
 },
 "nbformat": 4,
 "nbformat_minor": 5
}
