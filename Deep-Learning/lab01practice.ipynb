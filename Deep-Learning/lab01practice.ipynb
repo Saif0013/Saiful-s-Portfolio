{
 "cells": [
  {
   "cell_type": "code",
   "execution_count": 1,
   "id": "c234988b",
   "metadata": {},
   "outputs": [
    {
     "data": {
      "text/plain": [
       "'  Exercise 1  '"
      ]
     },
     "execution_count": 1,
     "metadata": {},
     "output_type": "execute_result"
    }
   ],
   "source": [
    "\"\"\"  Exercise 1  \"\"\""
   ]
  },
  {
   "cell_type": "code",
   "execution_count": 2,
   "id": "31b73a49",
   "metadata": {},
   "outputs": [
    {
     "data": {
      "text/plain": [
       "'  In the next cell, write a function called maximum that takes two values and\\n        returns the larger of the two, using an if statement.  '"
      ]
     },
     "execution_count": 2,
     "metadata": {},
     "output_type": "execute_result"
    }
   ],
   "source": [
    "\"\"\"  In the next cell, write a function called maximum that takes two values and\n",
    "        returns the larger of the two, using an if statement.  \"\"\""
   ]
  },
  {
   "cell_type": "code",
   "execution_count": 9,
   "id": "322fba38",
   "metadata": {},
   "outputs": [],
   "source": [
    "def maximum(a, b):\n",
    "    if a > b:\n",
    "        return a\n",
    "    else:\n",
    "        return b\n",
    "    "
   ]
  },
  {
   "cell_type": "code",
   "execution_count": 10,
   "id": "aba81a3f",
   "metadata": {},
   "outputs": [
    {
     "data": {
      "text/plain": [
       "5"
      ]
     },
     "execution_count": 10,
     "metadata": {},
     "output_type": "execute_result"
    }
   ],
   "source": [
    "maximum(5, 3)"
   ]
  },
  {
   "cell_type": "code",
   "execution_count": 11,
   "id": "c3e937c2",
   "metadata": {},
   "outputs": [
    {
     "data": {
      "text/plain": [
       "5"
      ]
     },
     "execution_count": 11,
     "metadata": {},
     "output_type": "execute_result"
    }
   ],
   "source": [
    "maximum(3, 5)"
   ]
  },
  {
   "cell_type": "code",
   "execution_count": 12,
   "id": "c0221519",
   "metadata": {},
   "outputs": [
    {
     "data": {
      "text/plain": [
       "0"
      ]
     },
     "execution_count": 12,
     "metadata": {},
     "output_type": "execute_result"
    }
   ],
   "source": [
    "maximum(0, 0)"
   ]
  },
  {
   "cell_type": "code",
   "execution_count": 7,
   "id": "e00a68fd",
   "metadata": {},
   "outputs": [
    {
     "data": {
      "text/plain": [
       "'  Exercise 2  '"
      ]
     },
     "execution_count": 7,
     "metadata": {},
     "output_type": "execute_result"
    }
   ],
   "source": [
    "\"\"\"  Exercise 2  \"\"\""
   ]
  },
  {
   "cell_type": "code",
   "execution_count": 8,
   "id": "bf23b86d",
   "metadata": {},
   "outputs": [
    {
     "data": {
      "text/plain": [
       "'  In the next cell, write a function called arr_max that takes a list (or tuple) and\\n        returns the largest element using a for loop and the maximum function you wrote \\n        in exercise 1. If the list is empty, return None.  '"
      ]
     },
     "execution_count": 8,
     "metadata": {},
     "output_type": "execute_result"
    }
   ],
   "source": [
    "\"\"\"  In the next cell, write a function called arr_max that takes a list (or tuple) and\n",
    "        returns the largest element using a for loop and the maximum function you wrote \n",
    "        in exercise 1. If the list is empty, return None.  \"\"\""
   ]
  },
  {
   "cell_type": "code",
   "execution_count": 19,
   "id": "a1c5129b",
   "metadata": {},
   "outputs": [],
   "source": [
    "def arr_max(nums):\n",
    "    if len(nums) == 0:\n",
    "        return None\n",
    "    else:\n",
    "            max_num = nums[0]\n",
    "            \n",
    "            for i in nums[1:]:\n",
    "                max_num = maximum(max_num, i)\n",
    "            \n",
    "            return max_num"
   ]
  },
  {
   "cell_type": "code",
   "execution_count": 20,
   "id": "cd85e178",
   "metadata": {},
   "outputs": [
    {
     "name": "stdout",
     "output_type": "stream",
     "text": [
      "5\n",
      "5\n",
      "23\n",
      "1\n",
      "1\n",
      "None\n"
     ]
    }
   ],
   "source": [
    "# Test your solution here\n",
    "print(arr_max([-10, -5, 0, 5]))    # should output 5\n",
    "print(arr_max((-10, -5, 0, 5)))    # should output 5 <-  tuple instead of list\n",
    "print(arr_max([4, -1, 23, 6, -1])) # should output 23\n",
    "print(arr_max([1, 1]))             # should output 1\n",
    "print(arr_max([1]))                # should output 1\n",
    "print(arr_max([]))                 # should output None"
   ]
  },
  {
   "cell_type": "code",
   "execution_count": 16,
   "id": "a6f1234c",
   "metadata": {},
   "outputs": [
    {
     "name": "stdout",
     "output_type": "stream",
     "text": [
      "4\n"
     ]
    }
   ],
   "source": [
    "print(arr_max([4, -1, 23, 6, -1]))"
   ]
  },
  {
   "cell_type": "code",
   "execution_count": 1,
   "id": "5d34959c",
   "metadata": {},
   "outputs": [
    {
     "name": "stderr",
     "output_type": "stream",
     "text": [
      "C:\\Users\\saifu\\anaconda3\\envs\\cse5ml\\lib\\site-packages\\tqdm\\auto.py:22: TqdmWarning: IProgress not found. Please update jupyter and ipywidgets. See https://ipywidgets.readthedocs.io/en/stable/user_install.html\n",
      "  from .autonotebook import tqdm as notebook_tqdm\n"
     ]
    },
    {
     "name": "stdout",
     "output_type": "stream",
     "text": [
      "Pytorch version: 1.12.1\n"
     ]
    }
   ],
   "source": [
    "import torch\n",
    "print(\"Pytorch version:\", torch.__version__)"
   ]
  },
  {
   "cell_type": "code",
   "execution_count": 2,
   "id": "94efc012",
   "metadata": {},
   "outputs": [],
   "source": [
    "my_float_tensor = torch.tensor([1., 2, 3])"
   ]
  },
  {
   "cell_type": "code",
   "execution_count": 3,
   "id": "562685a7",
   "metadata": {},
   "outputs": [],
   "source": [
    "my_float_tensor = torch.tensor([1, 2, 3], dtype=torch.float)"
   ]
  },
  {
   "cell_type": "code",
   "execution_count": 4,
   "id": "4c459ceb",
   "metadata": {},
   "outputs": [
    {
     "name": "stdout",
     "output_type": "stream",
     "text": [
      "tensor([1., 2., 3.])\n",
      "torch.float32\n"
     ]
    }
   ],
   "source": [
    "print(my_float_tensor)\n",
    "print(my_float_tensor.dtype)"
   ]
  },
  {
   "cell_type": "code",
   "execution_count": 5,
   "id": "d4585cf2",
   "metadata": {},
   "outputs": [
    {
     "name": "stdout",
     "output_type": "stream",
     "text": [
      "tensor([1, 2, 3])\n"
     ]
    }
   ],
   "source": [
    "my_list = [1, 2, 3]\n",
    "my_tensor = torch.tensor(my_list)\n",
    "print(my_tensor)"
   ]
  },
  {
   "cell_type": "code",
   "execution_count": 6,
   "id": "7edb9793",
   "metadata": {},
   "outputs": [],
   "source": [
    "my_float_tensor = my_float_tensor * 2.5 + 3"
   ]
  },
  {
   "cell_type": "code",
   "execution_count": 7,
   "id": "c4b78325",
   "metadata": {},
   "outputs": [],
   "source": [
    "another_tensor = torch.tensor([2, 4, 8])"
   ]
  },
  {
   "cell_type": "code",
   "execution_count": 8,
   "id": "41617a68",
   "metadata": {},
   "outputs": [
    {
     "name": "stdout",
     "output_type": "stream",
     "text": [
      "tensor([ 7.5000, 12.0000, 18.5000])\n",
      "tensor([3.5000, 4.0000, 2.5000])\n",
      "tensor([11., 32., 84.])\n",
      "tensor([2.7500, 2.0000, 1.3125])\n"
     ]
    }
   ],
   "source": [
    "# Tensors can operate element-wise on one-another\n",
    "print(my_float_tensor + another_tensor)\n",
    "print(my_float_tensor - another_tensor)\n",
    "print(my_float_tensor * another_tensor)\n",
    "print(my_float_tensor / another_tensor)"
   ]
  },
  {
   "cell_type": "code",
   "execution_count": 9,
   "id": "f501476f",
   "metadata": {},
   "outputs": [
    {
     "name": "stdout",
     "output_type": "stream",
     "text": [
      "tensor([1., 1., 1., 1., 1.]) tensor([0., 0., 0.])\n"
     ]
    }
   ],
   "source": [
    "ones_tensor = torch.ones(5)\n",
    "zeros_tensor = torch.zeros(3)\n",
    "print(ones_tensor, zeros_tensor)"
   ]
  },
  {
   "cell_type": "code",
   "execution_count": 10,
   "id": "46f4833e",
   "metadata": {},
   "outputs": [
    {
     "name": "stdout",
     "output_type": "stream",
     "text": [
      "tensor([0, 1, 2, 3, 4])\n"
     ]
    }
   ],
   "source": [
    "range_tensor = torch.arange(5)\n",
    "print(range_tensor)"
   ]
  },
  {
   "cell_type": "code",
   "execution_count": 11,
   "id": "8d14c0cc",
   "metadata": {},
   "outputs": [
    {
     "name": "stdout",
     "output_type": "stream",
     "text": [
      "tensor([[1., 0., 0.],\n",
      "        [0., 1., 0.],\n",
      "        [0., 0., 1.]])\n",
      "torch.Size([3, 3])\n"
     ]
    }
   ],
   "source": [
    "# identity matrix\n",
    "identity_matrix = torch.eye(3)\n",
    "print(identity_matrix)\n",
    "print(identity_matrix.shape)"
   ]
  },
  {
   "cell_type": "code",
   "execution_count": 12,
   "id": "6c45a067",
   "metadata": {},
   "outputs": [
    {
     "name": "stdout",
     "output_type": "stream",
     "text": [
      "tensor([[0, 1, 2],\n",
      "        [3, 4, 5]])\n",
      "torch.Size([2, 3])\n"
     ]
    }
   ],
   "source": [
    "my_matrix = torch.tensor([[0, 1, 2],\n",
    "                         [3, 4, 5]])\n",
    "print(my_matrix)\n",
    "print(my_matrix.shape)"
   ]
  },
  {
   "cell_type": "code",
   "execution_count": 13,
   "id": "6b4c3398",
   "metadata": {},
   "outputs": [
    {
     "name": "stdout",
     "output_type": "stream",
     "text": [
      "tensor([1., 0., 0.])\n"
     ]
    }
   ],
   "source": [
    "# print whole row\n",
    "print(identity_matrix[0])"
   ]
  },
  {
   "cell_type": "code",
   "execution_count": 14,
   "id": "dee20199",
   "metadata": {},
   "outputs": [
    {
     "name": "stdout",
     "output_type": "stream",
     "text": [
      "tensor(1.)\n"
     ]
    }
   ],
   "source": [
    "# print specific column of a row\n",
    "print(identity_matrix[0][0])"
   ]
  },
  {
   "cell_type": "code",
   "execution_count": 16,
   "id": "6e587c7d",
   "metadata": {},
   "outputs": [
    {
     "name": "stdout",
     "output_type": "stream",
     "text": [
      "tensor(1.)\n"
     ]
    }
   ],
   "source": [
    "# access multiple dimension at once\n",
    "print(identity_matrix[0, 0])"
   ]
  },
  {
   "cell_type": "code",
   "execution_count": 17,
   "id": "82c83320",
   "metadata": {},
   "outputs": [],
   "source": [
    "# three dimensional matrix full of zeros\n",
    "zeros_3d = torch.zeros((2, 3, 3))"
   ]
  },
  {
   "cell_type": "code",
   "execution_count": 18,
   "id": "cf79a20c",
   "metadata": {},
   "outputs": [
    {
     "name": "stdout",
     "output_type": "stream",
     "text": [
      "torch.Size([2, 3, 3])\n",
      "tensor([[[0., 0., 0.],\n",
      "         [0., 0., 0.],\n",
      "         [0., 0., 0.]],\n",
      "\n",
      "        [[0., 0., 0.],\n",
      "         [0., 0., 0.],\n",
      "         [0., 0., 0.]]])\n"
     ]
    }
   ],
   "source": [
    "print(zeros_3d.shape)\n",
    "print(zeros_3d)"
   ]
  },
  {
   "cell_type": "code",
   "execution_count": 2,
   "id": "8d88cce7",
   "metadata": {},
   "outputs": [
    {
     "name": "stdout",
     "output_type": "stream",
     "text": [
      "torch.Size([9])\n",
      "tensor([0, 1, 2, 3, 4, 5, 6, 7, 8])\n"
     ]
    }
   ],
   "source": [
    "range_tensor = torch.tensor([0, 1, 2, 3, 4, 5, 6, 7, 8])\n",
    "print(range_tensor.shape)\n",
    "print(range_tensor)"
   ]
  },
  {
   "cell_type": "code",
   "execution_count": 3,
   "id": "f0de0b45",
   "metadata": {},
   "outputs": [
    {
     "name": "stdout",
     "output_type": "stream",
     "text": [
      "torch.Size([3, 3])\n",
      "tensor([[0, 1, 2],\n",
      "        [3, 4, 5],\n",
      "        [6, 7, 8]])\n"
     ]
    }
   ],
   "source": [
    "range_mat = torch.tensor([[0, 1 , 2],\n",
    "                         [3, 4, 5],\n",
    "                         [6, 7, 8]])\n",
    "print(range_mat.shape)\n",
    "print(range_mat)"
   ]
  },
  {
   "cell_type": "code",
   "execution_count": 4,
   "id": "636ffe4e",
   "metadata": {},
   "outputs": [
    {
     "name": "stdout",
     "output_type": "stream",
     "text": [
      "9 9\n"
     ]
    }
   ],
   "source": [
    "# number of elements can be seen by nmuel() function\n",
    "print(range_tensor.numel(), range_mat.numel())"
   ]
  },
  {
   "cell_type": "code",
   "execution_count": 6,
   "id": "edf03c22",
   "metadata": {},
   "outputs": [
    {
     "name": "stdout",
     "output_type": "stream",
     "text": [
      "tensor([0., 1., 2., 3., 4., 5., 6., 7., 8.]) torch.Size([9])\n"
     ]
    }
   ],
   "source": [
    "range_tensor = torch.arange(9, dtype=torch.float)\n",
    "print(range_tensor, range_tensor.shape)"
   ]
  },
  {
   "cell_type": "code",
   "execution_count": 7,
   "id": "5c4a1214",
   "metadata": {},
   "outputs": [
    {
     "name": "stdout",
     "output_type": "stream",
     "text": [
      "tensor([[0., 1., 2.],\n",
      "        [3., 4., 5.],\n",
      "        [6., 7., 8.]])\n",
      "torch.Size([3, 3])\n"
     ]
    }
   ],
   "source": [
    "range_mat = range_tensor.reshape(3, 3)\n",
    "print(range_mat)\n",
    "print(range_mat.shape)"
   ]
  },
  {
   "cell_type": "code",
   "execution_count": 8,
   "id": "48108567",
   "metadata": {},
   "outputs": [
    {
     "name": "stdout",
     "output_type": "stream",
     "text": [
      "tensor([[0., 1., 2.],\n",
      "        [3., 4., 5.],\n",
      "        [6., 7., 8.]]) torch.Size([3, 3])\n"
     ]
    }
   ],
   "source": [
    "range_mat1 = range_tensor.reshape(-1, 3)\n",
    "print(range_mat1, range_mat1.shape)"
   ]
  },
  {
   "cell_type": "code",
   "execution_count": 9,
   "id": "5d70b003",
   "metadata": {},
   "outputs": [
    {
     "name": "stdout",
     "output_type": "stream",
     "text": [
      "tensor([0., 1., 2., 3., 4., 5., 6., 7., 8.]) torch.Size([9])\n"
     ]
    }
   ],
   "source": [
    "range_tensor = range_mat.reshape(-1)\n",
    "print(range_tensor, range_tensor.shape)"
   ]
  },
  {
   "cell_type": "code",
   "execution_count": 10,
   "id": "a2636876",
   "metadata": {},
   "outputs": [
    {
     "name": "stdout",
     "output_type": "stream",
     "text": [
      "Before squeeze:\n",
      "torch.Size([1, 1, 2, 2])\n",
      "tensor([[[[0.8821, 0.0365],\n",
      "          [0.4160, 0.4141]]]])\n",
      "After squeeze:\n",
      "torch.Size([2, 2])\n",
      "tensor([[0.8821, 0.0365],\n",
      "        [0.4160, 0.4141]])\n"
     ]
    }
   ],
   "source": [
    "tensor_4D = torch.rand(1, 1, 2, 2)\n",
    "print(\"Before squeeze:\")\n",
    "print(tensor_4D.shape)\n",
    "print(tensor_4D)\n",
    "tensor_2D = tensor_4D.squeeze()\n",
    "print(\"After squeeze:\")\n",
    "print(tensor_2D.shape)\n",
    "print(tensor_2D)"
   ]
  },
  {
   "cell_type": "code",
   "execution_count": 12,
   "id": "a4a18678",
   "metadata": {},
   "outputs": [
    {
     "name": "stdout",
     "output_type": "stream",
     "text": [
      "Before unsqueeze:\n",
      "torch.Size([3])\n",
      "tensor([0.4780, 0.2543, 0.5413])\n",
      "After unsqueeze:\n",
      "torch.Size([1, 3])\n",
      "tensor([[0.4780, 0.2543, 0.5413]])\n"
     ]
    }
   ],
   "source": [
    "tensor_1D = torch.rand(3)\n",
    "print(\"Before unsqueeze:\")\n",
    "print(tensor_1D.shape)\n",
    "print(tensor_1D)\n",
    "tensor_2D = tensor_1D.unsqueeze(0)\n",
    "print(\"After unsqueeze:\")\n",
    "print(tensor_2D.shape)\n",
    "print(tensor_2D)"
   ]
  },
  {
   "cell_type": "code",
   "execution_count": 17,
   "id": "c40b53cd",
   "metadata": {},
   "outputs": [
    {
     "name": "stdout",
     "output_type": "stream",
     "text": [
      "tensor([[[[ 0.,  1.,  2.,  3.,  4.],\n",
      "          [ 5.,  6.,  7.,  8.,  9.]],\n",
      "\n",
      "         [[10., 11., 12., 13., 14.],\n",
      "          [15., 16., 17., 18., 19.]],\n",
      "\n",
      "         [[20., 21., 22., 23., 24.],\n",
      "          [25., 26., 27., 28., 29.]],\n",
      "\n",
      "         [[30., 31., 32., 33., 34.],\n",
      "          [35., 36., 37., 38., 39.]]],\n",
      "\n",
      "\n",
      "        [[[40., 41., 42., 43., 44.],\n",
      "          [45., 46., 47., 48., 49.]],\n",
      "\n",
      "         [[50., 51., 52., 53., 54.],\n",
      "          [55., 56., 57., 58., 59.]],\n",
      "\n",
      "         [[60., 61., 62., 63., 64.],\n",
      "          [65., 66., 67., 68., 69.]],\n",
      "\n",
      "         [[70., 71., 72., 73., 74.],\n",
      "          [75., 76., 77., 78., 79.]]]])\n",
      "torch.Size([16, 5])\n",
      "tensor([[ 0.,  1.,  2.,  3.,  4.],\n",
      "        [ 5.,  6.,  7.,  8.,  9.],\n",
      "        [10., 11., 12., 13., 14.],\n",
      "        [15., 16., 17., 18., 19.],\n",
      "        [20., 21., 22., 23., 24.],\n",
      "        [25., 26., 27., 28., 29.],\n",
      "        [30., 31., 32., 33., 34.],\n",
      "        [35., 36., 37., 38., 39.],\n",
      "        [40., 41., 42., 43., 44.],\n",
      "        [45., 46., 47., 48., 49.],\n",
      "        [50., 51., 52., 53., 54.],\n",
      "        [55., 56., 57., 58., 59.],\n",
      "        [60., 61., 62., 63., 64.],\n",
      "        [65., 66., 67., 68., 69.],\n",
      "        [70., 71., 72., 73., 74.],\n",
      "        [75., 76., 77., 78., 79.]])\n"
     ]
    }
   ],
   "source": [
    "tensor_1D = torch.arange(80, dtype=torch.float)\n",
    "tensor_4D = tensor_1D.reshape(2, 4, 2, 5)\n",
    "print(tensor_4D)\n",
    "\n",
    "# TODO: fill in the code below to reshape the 4D tensor into a 2D tensor of shape (16, 5)\n",
    "tensor_2D = tensor_4D.reshape(-1, 5)\n",
    "\n",
    "print(tensor_2D.shape)  # The shape should be 16, 5\n",
    "print(tensor_2D)"
   ]
  },
  {
   "cell_type": "code",
   "execution_count": 18,
   "id": "28db2d8c",
   "metadata": {},
   "outputs": [
    {
     "name": "stdout",
     "output_type": "stream",
     "text": [
      "torch.Size([4, 2, 5, 3])\n",
      "tensor(0.)\n",
      "tensor(999.)\n"
     ]
    }
   ],
   "source": [
    "tensor_1D = torch.arange(120, dtype=torch.float)\n",
    "tensor_4D = tensor_1D.reshape(2, 4, 3, 5)\n",
    "# Swaps the first two dimensions and also the last two dimensions\n",
    "tensor_4D_transposed = tensor_4D.permute((1, 0, 3, 2))\n",
    "print(tensor_4D_transposed.shape)\n",
    "\n",
    "# The memory is not new\n",
    "print(tensor_4D_transposed[0, 0, 0, 0])\n",
    "tensor_4D_transposed[0, 0, 0, 0] = 999\n",
    "print(tensor_4D[0, 0, 0, 0])"
   ]
  },
  {
   "cell_type": "code",
   "execution_count": 19,
   "id": "166f7d8c",
   "metadata": {},
   "outputs": [
    {
     "name": "stdout",
     "output_type": "stream",
     "text": [
      "torch.Size([15, 2, 4])\n"
     ]
    }
   ],
   "source": [
    "tensor_1D = torch.arange(120, dtype=torch.float)\n",
    "tensor_4D = tensor_1D.reshape(2, 4, 3, 5)\n",
    "\n",
    "# TODO write code to combine the last two dimensions of the 4D tensor\n",
    "# and then move the combined dimension to be the first dimension\n",
    "\n",
    "tensor_3D = tensor_4D.reshape(2, 4, -1).permute((2, 0, 1))\n",
    "\n",
    "print(tensor_3D.shape) #The shape should be (15, 2, 4)"
   ]
  },
  {
   "cell_type": "code",
   "execution_count": 20,
   "id": "a7f4a9bd",
   "metadata": {},
   "outputs": [
    {
     "name": "stdout",
     "output_type": "stream",
     "text": [
      "tensor([1, 2, 3, 4, 5, 6, 7])\n"
     ]
    }
   ],
   "source": [
    "tensor_a = torch.tensor([1, 2, 3, 4])\n",
    "tensor_b = torch.tensor([5, 6, 7])\n",
    "tensor_c = torch.cat((tensor_a, tensor_b))\n",
    "print(tensor_c)"
   ]
  },
  {
   "cell_type": "code",
   "execution_count": 21,
   "id": "f7ece2fb",
   "metadata": {},
   "outputs": [
    {
     "name": "stdout",
     "output_type": "stream",
     "text": [
      "tensor([1, 2, 3, 4, 5, 6, 7, 1, 2, 3, 4, 5, 6, 7])\n"
     ]
    }
   ],
   "source": [
    "tensor_d = torch.cat((tensor_a, tensor_b, tensor_c))\n",
    "print(tensor_d)"
   ]
  },
  {
   "cell_type": "code",
   "execution_count": 22,
   "id": "a1991fad",
   "metadata": {},
   "outputs": [
    {
     "name": "stdout",
     "output_type": "stream",
     "text": [
      "tensor([ 36, 159,  68]) torch.Size([3])\n",
      "tensor([ 29, 174,  76]) torch.Size([3])\n"
     ]
    }
   ],
   "source": [
    "alice_data = torch.tensor([36, 159, 68])\n",
    "bob_data = torch.tensor([29, 174, 76])\n",
    "print(alice_data, alice_data.shape)\n",
    "print(bob_data, bob_data.shape)"
   ]
  },
  {
   "cell_type": "code",
   "execution_count": 23,
   "id": "3155fbf8",
   "metadata": {},
   "outputs": [
    {
     "name": "stdout",
     "output_type": "stream",
     "text": [
      "tensor([[ 36, 159,  68],\n",
      "        [ 29, 174,  76]])\n",
      "torch.Size([2, 3])\n"
     ]
    }
   ],
   "source": [
    "data_matrix = torch.stack((alice_data, bob_data), dim=0)\n",
    "print(data_matrix)\n",
    "print(data_matrix.shape)"
   ]
  },
  {
   "cell_type": "code",
   "execution_count": 2,
   "id": "f998538d",
   "metadata": {},
   "outputs": [
    {
     "name": "stdout",
     "output_type": "stream",
     "text": [
      "tensor([ 36, 159,  68]) torch.Size([3])\n",
      "tensor([ 29, 174,  76]) torch.Size([3])\n",
      "tensor([[ 36, 159,  68],\n",
      "        [ 29, 174,  76]])\n",
      "torch.Size([2, 3])\n"
     ]
    }
   ],
   "source": [
    "# Let's put together some dummy data.\n",
    "# Each tensor will contain the age, height, and weight of a different person\n",
    "alice_data = torch.tensor([36, 159, 68])\n",
    "bob_data = torch.tensor([29, 174, 76])\n",
    "print(alice_data, alice_data.shape)\n",
    "print(bob_data, bob_data.shape)\n",
    "\n",
    "# Now we'll create a 2x3 matrix where each row is a person's data - we have two\n",
    "# options for this.\n",
    "# Option 1:\n",
    "# - Convert each tensor into a 1x3 matrix\n",
    "alice_data_1 = alice_data.reshape((1, -1))\n",
    "bob_data_1 = bob_data.reshape((1, -1))\n",
    "# - Concatenate the tensors along the first dimension\n",
    "data_matrix_1 = torch.cat((alice_data_1, bob_data_1), dim=0)\n",
    "print(data_matrix_1)\n",
    "print(data_matrix_1.shape)"
   ]
  },
  {
   "cell_type": "code",
   "execution_count": 3,
   "id": "5c9e7572",
   "metadata": {},
   "outputs": [
    {
     "data": {
      "text/plain": [
       "\"\\nIn the next cell, write a function called add_person that takes a tensor shaped [n, 3] \\nwhere n is any integer (e.g. like data_matrix_1 from the previous section), \\nand a tensor new_person shaped [3] containing a person's age, height and weight. \\nIt should concatenate the new person to the end of the given matrix and return it.\\n\\n\""
      ]
     },
     "execution_count": 3,
     "metadata": {},
     "output_type": "execute_result"
    }
   ],
   "source": [
    "\"\"\"\n",
    "In the next cell, write a function called add_person that takes a tensor shaped [n, 3] \n",
    "where n is any integer (e.g. like data_matrix_1 from the previous section), \n",
    "and a tensor new_person shaped [3] containing a person's age, height and weight. \n",
    "It should concatenate the new person to the end of the given matrix and return it.\n",
    "\n",
    "\"\"\""
   ]
  },
  {
   "cell_type": "code",
   "execution_count": 4,
   "id": "ead0b7b5",
   "metadata": {},
   "outputs": [],
   "source": [
    "def add_person(people, new_person):\n",
    "    return torch.cat((people, new_person.unsqueeze(0)), dim=0)\n"
   ]
  },
  {
   "cell_type": "code",
   "execution_count": 5,
   "id": "a95bacda",
   "metadata": {},
   "outputs": [
    {
     "name": "stdout",
     "output_type": "stream",
     "text": [
      "tensor([[ 36, 159,  68],\n",
      "        [ 29, 174,  76],\n",
      "        [ 39, 166,  74]])\n",
      "tensor([[ 36, 159,  68],\n",
      "        [ 29, 174,  76],\n",
      "        [ 39, 166,  74],\n",
      "        [ 41, 183,  87]])\n"
     ]
    }
   ],
   "source": [
    "# Test your solution here\n",
    "charlie_data = torch.tensor([39, 166, 74])\n",
    "dennis_data = torch.tensor([41, 183, 87])\n",
    "\n",
    "data_matrix_3 = add_person(data_matrix_1, charlie_data)\n",
    "print(data_matrix_3)\n",
    "# should output [[36, 159, 68],\n",
    "#                [29, 174, 76],\n",
    "#                [39, 166, 74]]\n",
    "\n",
    "data_matrix_3 = add_person(data_matrix_3, dennis_data)\n",
    "print(data_matrix_3)\n",
    "# should output [[36, 159, 68],\n",
    "#                [29, 174, 76],\n",
    "#                [39, 166, 74]\n",
    "#                [41, 183, 87]]\n"
   ]
  },
  {
   "cell_type": "code",
   "execution_count": 6,
   "id": "10970327",
   "metadata": {},
   "outputs": [
    {
     "name": "stdout",
     "output_type": "stream",
     "text": [
      "torch.Size([3, 15, 30])\n"
     ]
    }
   ],
   "source": [
    "num_channels = 3\n",
    "height = 15\n",
    "width = 30\n",
    "\n",
    "img = torch.rand(num_channels, height, width)\n",
    "print(img.shape)"
   ]
  },
  {
   "cell_type": "code",
   "execution_count": 7,
   "id": "84cd860d",
   "metadata": {},
   "outputs": [],
   "source": [
    "import matplotlib.pyplot as plt"
   ]
  },
  {
   "cell_type": "code",
   "execution_count": 8,
   "id": "89991372",
   "metadata": {},
   "outputs": [],
   "source": [
    "def plt_img_tensor(tensor):\n",
    "    if tensor.ndim == 3:\n",
    "        tensor = tensor.permute(1, 2, 0)\n",
    "    plt.imshow(tensor.detach().cpu().numpy(), cmap='Greys_r')\n",
    "    plt.clim(0, 1)\n",
    "    plt.show()"
   ]
  },
  {
   "cell_type": "code",
   "execution_count": 9,
   "id": "46b7b3c7",
   "metadata": {},
   "outputs": [
    {
     "data": {
      "image/png": "[encoded data removed]",
      "text/plain": [
       "<Figure size 640x480 with 1 Axes>"
      ]
     },
     "metadata": {},
     "output_type": "display_data"
    }
   ],
   "source": [
    "plt_img_tensor(img)"
   ]
  },
  {
   "cell_type": "code",
   "execution_count": 10,
   "id": "94a57387",
   "metadata": {},
   "outputs": [
    {
     "data": {
      "image/png": "[encoded data removed]",
      "text/plain": [
       "<Figure size 640x480 with 1 Axes>"
      ]
     },
     "metadata": {},
     "output_type": "display_data"
    },
    {
     "name": "stdout",
     "output_type": "stream",
     "text": [
      "torch.Size([15, 30])\n"
     ]
    }
   ],
   "source": [
    "green_channel = img[1]\n",
    "plt_img_tensor(green_channel)\n",
    "print(green_channel.shape)"
   ]
  },
  {
   "cell_type": "code",
   "execution_count": 11,
   "id": "0d72f2ac",
   "metadata": {},
   "outputs": [
    {
     "data": {
      "text/plain": [
       "' Exercise 6 '"
      ]
     },
     "execution_count": 11,
     "metadata": {},
     "output_type": "execute_result"
    }
   ],
   "source": [
    "\"\"\" Exercise 6 \"\"\""
   ]
  },
  {
   "cell_type": "code",
   "execution_count": 12,
   "id": "87846438",
   "metadata": {},
   "outputs": [
    {
     "data": {
      "image/png": "[encoded data removed]",
      "text/plain": [
       "<Figure size 640x480 with 1 Axes>"
      ]
     },
     "metadata": {},
     "output_type": "display_data"
    },
    {
     "name": "stdout",
     "output_type": "stream",
     "text": [
      "torch.Size([15, 30])\n"
     ]
    }
   ],
   "source": [
    "blue_channel = img[2]\n",
    "plt_img_tensor(blue_channel)\n",
    "print(blue_channel.shape)"
   ]
  },
  {
   "cell_type": "code",
   "execution_count": 13,
   "id": "c59ebf84",
   "metadata": {},
   "outputs": [
    {
     "name": "stdout",
     "output_type": "stream",
     "text": [
      "True\n"
     ]
    }
   ],
   "source": [
    "# Test your solution here\n",
    "print(blue_channel.shape == (height, width))  # Should output True\n",
    "\n",
    "# Note that the above test doesn't confirm that you have the right colour channel,\n",
    "# only that you have *a* colour channel."
   ]
  },
  {
   "cell_type": "code",
   "execution_count": null,
   "id": "fde1d1c7",
   "metadata": {},
   "outputs": [],
   "source": []
  }
 ],
 "metadata": {
  "kernelspec": {
   "display_name": "Python 3 (ipykernel)",
   "language": "python",
   "name": "python3"
  },
  "language_info": {
   "codemirror_mode": {
    "name": "ipython",
    "version": 3
   },
   "file_extension": ".py",
   "mimetype": "text/x-python",
   "name": "python",
   "nbconvert_exporter": "python",
   "pygments_lexer": "ipython3",
   "version": "3.7.16"
  }
 },
 "nbformat": 4,
 "nbformat_minor": 5
}
