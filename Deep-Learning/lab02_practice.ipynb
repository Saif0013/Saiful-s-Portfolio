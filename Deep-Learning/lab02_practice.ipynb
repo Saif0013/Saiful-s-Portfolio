{
 "cells": [
  {
   "cell_type": "code",
   "execution_count": 1,
   "id": "3f2f46f2",
   "metadata": {},
   "outputs": [],
   "source": [
    "import pandas as pd"
   ]
  },
  {
   "cell_type": "code",
   "execution_count": 2,
   "id": "b0b43e2b",
   "metadata": {},
   "outputs": [],
   "source": [
    "# There are two datasets available, but we'll just work with the larger, white\n",
    "# wine dataset. Feel free to play around with the red wine dataset once you've\n",
    "# finished the lab\n",
    "red_wine_url = \"https://archive.ics.uci.edu/ml/machine-learning-databases/wine-quality/winequality-red.csv\"\n",
    "white_wine_url = \"https://archive.ics.uci.edu/ml/machine-learning-databases/wine-quality/winequality-white.csv\""
   ]
  },
  {
   "cell_type": "code",
   "execution_count": 5,
   "id": "fd5d45cf",
   "metadata": {},
   "outputs": [
    {
     "name": "stdout",
     "output_type": "stream",
     "text": [
      "<class 'pandas.core.frame.DataFrame'>\n"
     ]
    }
   ],
   "source": [
    "print(type(all_data))"
   ]
  },
  {
   "cell_type": "code",
   "execution_count": 4,
   "id": "00b96ee6",
   "metadata": {},
   "outputs": [],
   "source": [
    "# It's a single function call to load a dataset. CSV files typically use commas\n",
    "# as delimiters between records, but our dataset uses semicolons so we had to\n",
    "# specify it with the \"delimiter\" argument.\n",
    "all_data = pd.read_csv(white_wine_url, delimiter=';')\n"
   ]
  },
  {
   "cell_type": "code",
   "execution_count": 6,
   "id": "2f56675f",
   "metadata": {},
   "outputs": [
    {
     "data": {
      "text/html": [
       "<div>\n",
       "<style scoped>\n",
       "    .dataframe tbody tr th:only-of-type {\n",
       "        vertical-align: middle;\n",
       "    }\n",
       "\n",
       "    .dataframe tbody tr th {\n",
       "        vertical-align: top;\n",
       "    }\n",
       "\n",
       "    .dataframe thead th {\n",
       "        text-align: right;\n",
       "    }\n",
       "</style>\n",
       "<table border=\"1\" class=\"dataframe\">\n",
       "  <thead>\n",
       "    <tr style=\"text-align: right;\">\n",
       "      <th></th>\n",
       "      <th>fixed acidity</th>\n",
       "      <th>volatile acidity</th>\n",
       "      <th>citric acid</th>\n",
       "      <th>residual sugar</th>\n",
       "      <th>chlorides</th>\n",
       "      <th>free sulfur dioxide</th>\n",
       "      <th>total sulfur dioxide</th>\n",
       "      <th>density</th>\n",
       "      <th>pH</th>\n",
       "      <th>sulphates</th>\n",
       "      <th>alcohol</th>\n",
       "      <th>quality</th>\n",
       "    </tr>\n",
       "  </thead>\n",
       "  <tbody>\n",
       "    <tr>\n",
       "      <th>0</th>\n",
       "      <td>7.0</td>\n",
       "      <td>0.27</td>\n",
       "      <td>0.36</td>\n",
       "      <td>20.7</td>\n",
       "      <td>0.045</td>\n",
       "      <td>45.0</td>\n",
       "      <td>170.0</td>\n",
       "      <td>1.0010</td>\n",
       "      <td>3.00</td>\n",
       "      <td>0.45</td>\n",
       "      <td>8.8</td>\n",
       "      <td>6</td>\n",
       "    </tr>\n",
       "    <tr>\n",
       "      <th>1</th>\n",
       "      <td>6.3</td>\n",
       "      <td>0.30</td>\n",
       "      <td>0.34</td>\n",
       "      <td>1.6</td>\n",
       "      <td>0.049</td>\n",
       "      <td>14.0</td>\n",
       "      <td>132.0</td>\n",
       "      <td>0.9940</td>\n",
       "      <td>3.30</td>\n",
       "      <td>0.49</td>\n",
       "      <td>9.5</td>\n",
       "      <td>6</td>\n",
       "    </tr>\n",
       "    <tr>\n",
       "      <th>2</th>\n",
       "      <td>8.1</td>\n",
       "      <td>0.28</td>\n",
       "      <td>0.40</td>\n",
       "      <td>6.9</td>\n",
       "      <td>0.050</td>\n",
       "      <td>30.0</td>\n",
       "      <td>97.0</td>\n",
       "      <td>0.9951</td>\n",
       "      <td>3.26</td>\n",
       "      <td>0.44</td>\n",
       "      <td>10.1</td>\n",
       "      <td>6</td>\n",
       "    </tr>\n",
       "    <tr>\n",
       "      <th>3</th>\n",
       "      <td>7.2</td>\n",
       "      <td>0.23</td>\n",
       "      <td>0.32</td>\n",
       "      <td>8.5</td>\n",
       "      <td>0.058</td>\n",
       "      <td>47.0</td>\n",
       "      <td>186.0</td>\n",
       "      <td>0.9956</td>\n",
       "      <td>3.19</td>\n",
       "      <td>0.40</td>\n",
       "      <td>9.9</td>\n",
       "      <td>6</td>\n",
       "    </tr>\n",
       "    <tr>\n",
       "      <th>4</th>\n",
       "      <td>7.2</td>\n",
       "      <td>0.23</td>\n",
       "      <td>0.32</td>\n",
       "      <td>8.5</td>\n",
       "      <td>0.058</td>\n",
       "      <td>47.0</td>\n",
       "      <td>186.0</td>\n",
       "      <td>0.9956</td>\n",
       "      <td>3.19</td>\n",
       "      <td>0.40</td>\n",
       "      <td>9.9</td>\n",
       "      <td>6</td>\n",
       "    </tr>\n",
       "  </tbody>\n",
       "</table>\n",
       "</div>"
      ],
      "text/plain": [
       "   fixed acidity  volatile acidity  citric acid  residual sugar  chlorides  \\\n",
       "0            7.0              0.27         0.36            20.7      0.045   \n",
       "1            6.3              0.30         0.34             1.6      0.049   \n",
       "2            8.1              0.28         0.40             6.9      0.050   \n",
       "3            7.2              0.23         0.32             8.5      0.058   \n",
       "4            7.2              0.23         0.32             8.5      0.058   \n",
       "\n",
       "   free sulfur dioxide  total sulfur dioxide  density    pH  sulphates  \\\n",
       "0                 45.0                 170.0   1.0010  3.00       0.45   \n",
       "1                 14.0                 132.0   0.9940  3.30       0.49   \n",
       "2                 30.0                  97.0   0.9951  3.26       0.44   \n",
       "3                 47.0                 186.0   0.9956  3.19       0.40   \n",
       "4                 47.0                 186.0   0.9956  3.19       0.40   \n",
       "\n",
       "   alcohol  quality  \n",
       "0      8.8        6  \n",
       "1      9.5        6  \n",
       "2     10.1        6  \n",
       "3      9.9        6  \n",
       "4      9.9        6  "
      ]
     },
     "execution_count": 6,
     "metadata": {},
     "output_type": "execute_result"
    }
   ],
   "source": [
    "all_data.head()"
   ]
  },
  {
   "cell_type": "code",
   "execution_count": 5,
   "id": "acd53435",
   "metadata": {},
   "outputs": [
    {
     "data": {
      "text/plain": [
       "fixed acidity           0\n",
       "volatile acidity        0\n",
       "citric acid             0\n",
       "residual sugar          0\n",
       "chlorides               0\n",
       "free sulfur dioxide     0\n",
       "total sulfur dioxide    0\n",
       "density                 0\n",
       "pH                      0\n",
       "sulphates               0\n",
       "alcohol                 0\n",
       "quality                 0\n",
       "dtype: int64"
      ]
     },
     "execution_count": 5,
     "metadata": {},
     "output_type": "execute_result"
    }
   ],
   "source": [
    "all_data.isna().sum()"
   ]
  },
  {
   "cell_type": "code",
   "execution_count": 6,
   "id": "87ad25c0",
   "metadata": {},
   "outputs": [
    {
     "data": {
      "text/plain": [
       "fixed acidity           0\n",
       "volatile acidity        0\n",
       "citric acid             0\n",
       "residual sugar          0\n",
       "chlorides               0\n",
       "free sulfur dioxide     0\n",
       "total sulfur dioxide    0\n",
       "density                 0\n",
       "pH                      0\n",
       "sulphates               0\n",
       "alcohol                 0\n",
       "quality                 0\n",
       "dtype: int64"
      ]
     },
     "execution_count": 6,
     "metadata": {},
     "output_type": "execute_result"
    }
   ],
   "source": [
    "all_data.isnull().sum()"
   ]
  },
  {
   "cell_type": "code",
   "execution_count": 7,
   "id": "52483e46",
   "metadata": {},
   "outputs": [
    {
     "data": {
      "text/plain": [
       "array([[<AxesSubplot:title={'center':'fixed acidity'}>,\n",
       "        <AxesSubplot:title={'center':'volatile acidity'}>,\n",
       "        <AxesSubplot:title={'center':'citric acid'}>],\n",
       "       [<AxesSubplot:title={'center':'residual sugar'}>,\n",
       "        <AxesSubplot:title={'center':'chlorides'}>,\n",
       "        <AxesSubplot:title={'center':'free sulfur dioxide'}>],\n",
       "       [<AxesSubplot:title={'center':'total sulfur dioxide'}>,\n",
       "        <AxesSubplot:title={'center':'density'}>,\n",
       "        <AxesSubplot:title={'center':'pH'}>],\n",
       "       [<AxesSubplot:title={'center':'sulphates'}>,\n",
       "        <AxesSubplot:title={'center':'alcohol'}>,\n",
       "        <AxesSubplot:title={'center':'quality'}>]], dtype=object)"
      ]
     },
     "execution_count": 7,
     "metadata": {},
     "output_type": "execute_result"
    },
    {
     "data": {
      "image/png": "[encoded data removed]",
      "text/plain": [
       "<Figure size 1500x1000 with 12 Axes>"
      ]
     },
     "metadata": {},
     "output_type": "display_data"
    }
   ],
   "source": [
    "all_data.hist(bins=20, figsize=(15, 10))"
   ]
  },
  {
   "cell_type": "code",
   "execution_count": 8,
   "id": "bb33698a",
   "metadata": {},
   "outputs": [],
   "source": [
    "target_column = \"quality\"\n",
    "\n",
    "# TODO: Extract just the *input* features. Instead of specifying all of the features we\n",
    "# want, we should drop the feature we *don't* want.\n",
    "x_data = all_data.drop(target_column, axis=1)\n",
    "\n",
    "\n",
    "# TODO: Extract the target feature. We don't want a Series here, but a DataFrame\n",
    "# with one column (see the above cell)\n",
    "y_data = all_data[[target_column]]"
   ]
  },
  {
   "cell_type": "code",
   "execution_count": 9,
   "id": "44b491af",
   "metadata": {},
   "outputs": [
    {
     "data": {
      "text/html": [
       "<div>\n",
       "<style scoped>\n",
       "    .dataframe tbody tr th:only-of-type {\n",
       "        vertical-align: middle;\n",
       "    }\n",
       "\n",
       "    .dataframe tbody tr th {\n",
       "        vertical-align: top;\n",
       "    }\n",
       "\n",
       "    .dataframe thead th {\n",
       "        text-align: right;\n",
       "    }\n",
       "</style>\n",
       "<table border=\"1\" class=\"dataframe\">\n",
       "  <thead>\n",
       "    <tr style=\"text-align: right;\">\n",
       "      <th></th>\n",
       "      <th>fixed acidity</th>\n",
       "      <th>volatile acidity</th>\n",
       "      <th>citric acid</th>\n",
       "      <th>residual sugar</th>\n",
       "      <th>chlorides</th>\n",
       "      <th>free sulfur dioxide</th>\n",
       "      <th>total sulfur dioxide</th>\n",
       "      <th>density</th>\n",
       "      <th>pH</th>\n",
       "      <th>sulphates</th>\n",
       "      <th>alcohol</th>\n",
       "    </tr>\n",
       "  </thead>\n",
       "  <tbody>\n",
       "    <tr>\n",
       "      <th>0</th>\n",
       "      <td>7.0</td>\n",
       "      <td>0.27</td>\n",
       "      <td>0.36</td>\n",
       "      <td>20.7</td>\n",
       "      <td>0.045</td>\n",
       "      <td>45.0</td>\n",
       "      <td>170.0</td>\n",
       "      <td>1.0010</td>\n",
       "      <td>3.00</td>\n",
       "      <td>0.45</td>\n",
       "      <td>8.8</td>\n",
       "    </tr>\n",
       "    <tr>\n",
       "      <th>1</th>\n",
       "      <td>6.3</td>\n",
       "      <td>0.30</td>\n",
       "      <td>0.34</td>\n",
       "      <td>1.6</td>\n",
       "      <td>0.049</td>\n",
       "      <td>14.0</td>\n",
       "      <td>132.0</td>\n",
       "      <td>0.9940</td>\n",
       "      <td>3.30</td>\n",
       "      <td>0.49</td>\n",
       "      <td>9.5</td>\n",
       "    </tr>\n",
       "    <tr>\n",
       "      <th>2</th>\n",
       "      <td>8.1</td>\n",
       "      <td>0.28</td>\n",
       "      <td>0.40</td>\n",
       "      <td>6.9</td>\n",
       "      <td>0.050</td>\n",
       "      <td>30.0</td>\n",
       "      <td>97.0</td>\n",
       "      <td>0.9951</td>\n",
       "      <td>3.26</td>\n",
       "      <td>0.44</td>\n",
       "      <td>10.1</td>\n",
       "    </tr>\n",
       "    <tr>\n",
       "      <th>3</th>\n",
       "      <td>7.2</td>\n",
       "      <td>0.23</td>\n",
       "      <td>0.32</td>\n",
       "      <td>8.5</td>\n",
       "      <td>0.058</td>\n",
       "      <td>47.0</td>\n",
       "      <td>186.0</td>\n",
       "      <td>0.9956</td>\n",
       "      <td>3.19</td>\n",
       "      <td>0.40</td>\n",
       "      <td>9.9</td>\n",
       "    </tr>\n",
       "    <tr>\n",
       "      <th>4</th>\n",
       "      <td>7.2</td>\n",
       "      <td>0.23</td>\n",
       "      <td>0.32</td>\n",
       "      <td>8.5</td>\n",
       "      <td>0.058</td>\n",
       "      <td>47.0</td>\n",
       "      <td>186.0</td>\n",
       "      <td>0.9956</td>\n",
       "      <td>3.19</td>\n",
       "      <td>0.40</td>\n",
       "      <td>9.9</td>\n",
       "    </tr>\n",
       "  </tbody>\n",
       "</table>\n",
       "</div>"
      ],
      "text/plain": [
       "   fixed acidity  volatile acidity  citric acid  residual sugar  chlorides  \\\n",
       "0            7.0              0.27         0.36            20.7      0.045   \n",
       "1            6.3              0.30         0.34             1.6      0.049   \n",
       "2            8.1              0.28         0.40             6.9      0.050   \n",
       "3            7.2              0.23         0.32             8.5      0.058   \n",
       "4            7.2              0.23         0.32             8.5      0.058   \n",
       "\n",
       "   free sulfur dioxide  total sulfur dioxide  density    pH  sulphates  \\\n",
       "0                 45.0                 170.0   1.0010  3.00       0.45   \n",
       "1                 14.0                 132.0   0.9940  3.30       0.49   \n",
       "2                 30.0                  97.0   0.9951  3.26       0.44   \n",
       "3                 47.0                 186.0   0.9956  3.19       0.40   \n",
       "4                 47.0                 186.0   0.9956  3.19       0.40   \n",
       "\n",
       "   alcohol  \n",
       "0      8.8  \n",
       "1      9.5  \n",
       "2     10.1  \n",
       "3      9.9  \n",
       "4      9.9  "
      ]
     },
     "execution_count": 9,
     "metadata": {},
     "output_type": "execute_result"
    }
   ],
   "source": [
    "x_data.head()"
   ]
  },
  {
   "cell_type": "code",
   "execution_count": 10,
   "id": "4dd68c57",
   "metadata": {},
   "outputs": [
    {
     "name": "stdout",
     "output_type": "stream",
     "text": [
      "y_data shape: (4898, 1)\n"
     ]
    }
   ],
   "source": [
    "# If your implementation is correct the shape of y_data should be (4898, 1)\n",
    "# So y_data is a 2D tensor containing 4898 examples and just 1 feature.\n",
    "print(\"y_data shape:\", y_data.shape) "
   ]
  },
  {
   "cell_type": "code",
   "execution_count": 11,
   "id": "d1a6af42",
   "metadata": {},
   "outputs": [],
   "source": [
    "# Just like with tensors, we can print the shape\n",
    "num_examples = x_data.shape[0]\n",
    "num_input_features = x_data.shape[1]"
   ]
  },
  {
   "cell_type": "code",
   "execution_count": 12,
   "id": "cb02488b",
   "metadata": {},
   "outputs": [
    {
     "name": "stdout",
     "output_type": "stream",
     "text": [
      "Number of examples: 4898\n",
      "Number of input features: 11\n"
     ]
    }
   ],
   "source": [
    "# If your implementation is correct the number of samples should be 4898\n",
    "print(\"Number of examples:\", num_examples) \n",
    "\n",
    "# If your implementation is correct the number of input features should be 11\n",
    "print(\"Number of input features:\", num_input_features)"
   ]
  },
  {
   "cell_type": "code",
   "execution_count": 13,
   "id": "86ff07a4",
   "metadata": {},
   "outputs": [
    {
     "name": "stdout",
     "output_type": "stream",
     "text": [
      "x_data shape: (4898, 11)\n"
     ]
    }
   ],
   "source": [
    "# If your implementation the shape of the x_data tensor should be (4898, 11)\n",
    "# which means it is a 2D array where each row represents one example and each\n",
    "# column represents one feature\n",
    "print(\"x_data shape:\", x_data.shape )"
   ]
  },
  {
   "cell_type": "code",
   "execution_count": 33,
   "id": "0acf4358",
   "metadata": {},
   "outputs": [],
   "source": [
    "# import torch and the dataset utilities we need\n",
    "import torch\n",
    "from torch.utils.data import DataLoader, Dataset, TensorDataset, random_split"
   ]
  },
  {
   "cell_type": "code",
   "execution_count": 35,
   "id": "7c0fa7be",
   "metadata": {},
   "outputs": [],
   "source": [
    "# The percentages for each partition\n",
    "TRAIN_SPLIT = 0.8\n",
    "VAL_SPLIT = 0.1\n",
    "TEST_SPLIT = 0.1"
   ]
  },
  {
   "cell_type": "code",
   "execution_count": 36,
   "id": "d5e88623",
   "metadata": {},
   "outputs": [],
   "source": [
    "# Ensure that the splits add to 100%\n",
    "assert TRAIN_SPLIT + VAL_SPLIT + TEST_SPLIT == 1"
   ]
  },
  {
   "cell_type": "code",
   "execution_count": 37,
   "id": "7191ef80",
   "metadata": {},
   "outputs": [],
   "source": [
    "# TODO: Create two tensors and initialise them with x_data.values and y_data.values.\n",
    "# The dtype should be torch.float32. DataFrame.values directly returns the 2D\n",
    "# data in the dataframe, which is what Torch requires to initialise a tensor.\n",
    "# we have done the initialization for x_tensor for you. Please do something similar\n",
    "# the y_tensor.\n",
    "\n",
    "x_tensor = torch.tensor(x_data.values, dtype=torch.float32)\n",
    "y_tensor = torch.tensor(y_data.values, dtype=torch.float32)"
   ]
  },
  {
   "cell_type": "code",
   "execution_count": 38,
   "id": "b723642c",
   "metadata": {},
   "outputs": [],
   "source": [
    "assert torch.is_tensor(x_tensor) and x_tensor.dtype == torch.float32\n",
    "assert torch.is_tensor(y_tensor) and y_tensor.dtype == torch.float32"
   ]
  },
  {
   "cell_type": "code",
   "execution_count": 39,
   "id": "bc59e910",
   "metadata": {},
   "outputs": [],
   "source": [
    "# Now we construct a TensorDataset - a simple class used to associate each x and\n",
    "# y value in our tensors.\n",
    "full_dataset = TensorDataset(x_tensor, y_tensor)"
   ]
  },
  {
   "cell_type": "code",
   "execution_count": 40,
   "id": "c60b6c51",
   "metadata": {},
   "outputs": [],
   "source": [
    "# Calculate the number of examples in each partition\n",
    "train_size = int(TRAIN_SPLIT * len(all_data))\n",
    "val_size = int(VAL_SPLIT * len(all_data))\n",
    "test_size = len(all_data) - train_size - val_size"
   ]
  },
  {
   "cell_type": "code",
   "execution_count": 41,
   "id": "4f5b7975",
   "metadata": {},
   "outputs": [
    {
     "name": "stdout",
     "output_type": "stream",
     "text": [
      "Train examples:      3918\n",
      "Validation examples: 489\n",
      "Test examples:       491\n"
     ]
    }
   ],
   "source": [
    "print(\"Train examples:     \", train_size)\n",
    "print(\"Validation examples:\", val_size)\n",
    "print(\"Test examples:      \", test_size)"
   ]
  },
  {
   "cell_type": "code",
   "execution_count": 42,
   "id": "9789e7e3",
   "metadata": {},
   "outputs": [
    {
     "data": {
      "text/plain": [
       "<torch._C.Generator at 0x212ce2d2d70>"
      ]
     },
     "execution_count": 42,
     "metadata": {},
     "output_type": "execute_result"
    }
   ],
   "source": [
    "# # Before we actually split the dataset, we seed Torch's random number generator.\n",
    "# This ensure that we end up with the exact same partitions every time it's run.\n",
    "torch.manual_seed(42)"
   ]
  },
  {
   "cell_type": "code",
   "execution_count": 43,
   "id": "0c18d705",
   "metadata": {},
   "outputs": [],
   "source": [
    "# TODO: Split the dataset using the random_split function we imported earlier.\n",
    "# The function takes a dataset and a list of partition lengths.\n",
    "# Hint: We already have all of these variables available\n",
    "#       You can see an example here:\n",
    "#       https://www.programcreek.com/python/example/125046/torch.utils.data.random_split\n",
    "train_dataset, val_dataset, test_dataset = random_split(full_dataset,\n",
    "                                                       [train_size, val_size, test_size])"
   ]
  },
  {
   "cell_type": "code",
   "execution_count": 44,
   "id": "660c549a",
   "metadata": {},
   "outputs": [
    {
     "name": "stdout",
     "output_type": "stream",
     "text": [
      "train set size:  3918\n",
      "validation set size:  489\n",
      "test set size:  491\n"
     ]
    }
   ],
   "source": [
    "# To find number of data in each dataset\n",
    "print(\"train set size: \", len(train_dataset))\n",
    "print(\"validation set size: \", len(val_dataset))\n",
    "print(\"test set size: \", len(test_dataset))"
   ]
  },
  {
   "cell_type": "code",
   "execution_count": 45,
   "id": "8bf288f5",
   "metadata": {},
   "outputs": [],
   "source": [
    "BATCH_SIZE = 64"
   ]
  },
  {
   "cell_type": "code",
   "execution_count": 46,
   "id": "7a4a280a",
   "metadata": {},
   "outputs": [],
   "source": [
    "# TODO: Construct a DataLoader for each Dataset. The constructor takes three\n",
    "# arguments - a Dataset, the batch size, and a boolean indicating whether it\n",
    "# should shuffled. We will set shuffle=True for train dataloader and \n",
    "# shuffle=False for the other two. We have written the train_loader for you\n",
    "# you should write the rest.\n",
    "\n",
    "train_loader = DataLoader(train_dataset, batch_size=BATCH_SIZE, shuffle=True)\n",
    "val_loader = DataLoader(val_dataset, batch_size=BATCH_SIZE, shuffle=False)\n",
    "test_loader = DataLoader(test_dataset, batch_size=BATCH_SIZE, shuffle=False)"
   ]
  },
  {
   "cell_type": "code",
   "execution_count": 47,
   "id": "235fc90a",
   "metadata": {},
   "outputs": [
    {
     "name": "stdout",
     "output_type": "stream",
     "text": [
      "torch.Size([64, 11]) torch.Size([64, 1])\n"
     ]
    }
   ],
   "source": [
    "for batch in train_loader:\n",
    "    inputs, labels = batch\n",
    "    print(inputs.shape, labels.shape)\n",
    "    break"
   ]
  },
  {
   "cell_type": "code",
   "execution_count": 48,
   "id": "02b8cc7b",
   "metadata": {},
   "outputs": [
    {
     "name": "stdout",
     "output_type": "stream",
     "text": [
      "Training on cpu\n"
     ]
    }
   ],
   "source": [
    "# GPU\n",
    "device = torch.device(\"cpu\")\n",
    "\n",
    "# Check if GPU acceleration is available (requires a CUDA-compatible GPU) and\n",
    "# set the device variable accordingly. If the computer has more than one GPU,\n",
    "# you can specify which one by replacing 0 with a different index\n",
    "if torch.cuda.is_available():\n",
    "    device = torch.device(\"cuda:0\")\n",
    "    torch.cuda.set_device(device)\n",
    "\n",
    "print(\"Training on\", device)"
   ]
  },
  {
   "cell_type": "code",
   "execution_count": 49,
   "id": "53ceacd3",
   "metadata": {},
   "outputs": [],
   "source": [
    "# import the neural network module of pytorch. we access its methods like nn.Linear\n",
    "import torch.nn as nn"
   ]
  },
  {
   "cell_type": "code",
   "execution_count": null,
   "id": "5c20fffe",
   "metadata": {},
   "outputs": [],
   "source": [
    "# Our model class must subclass nn.Module\n",
    "class MLP(nn.Module):\n",
    "    \n",
    "    def __init__(self, device):\n",
    "        super().__init__()\n",
    "        "
   ]
  }
 ],
 "metadata": {
  "kernelspec": {
   "display_name": "Python 3 (ipykernel)",
   "language": "python",
   "name": "python3"
  },
  "language_info": {
   "codemirror_mode": {
    "name": "ipython",
    "version": 3
   },
   "file_extension": ".py",
   "mimetype": "text/x-python",
   "name": "python",
   "nbconvert_exporter": "python",
   "pygments_lexer": "ipython3",
   "version": "3.7.16"
  }
 },
 "nbformat": 4,
 "nbformat_minor": 5
}
